{
 "cells": [
  {
   "cell_type": "code",
   "execution_count": null,
   "id": "aae2d061-9176-4a16-b8ec-d5f2a5a08e21",
   "metadata": {},
   "outputs": [],
   "source": [
    "import pandas as pd\n",
    "import numpy as np\n",
    "import matplotlib.pyplot as plt\n",
    "import random\n",
    "import shap\n",
    "from tqdm.notebook import tnrange\n",
    "from sklearn.feature_selection import VarianceThreshold, mutual_info_classif\n",
    "from imblearn.under_sampling import RandomUnderSampler\n",
    "from sklearn.model_selection import cross_val_score, cross_val_predict, train_test_split, RandomizedSearchCV\n",
    "from sklearn.metrics import plot_confusion_matrix\n",
    "from sklearn.ensemble import RandomForestClassifier\n",
    "from sklearn.metrics import f1_score as f1"
   ]
  },
  {
   "cell_type": "markdown",
   "id": "3507e7f9-c7b0-4d15-a1a7-a48218562a7d",
   "metadata": {},
   "source": [
    "### [Target Assignment]"
   ]
  },
  {
   "cell_type": "code",
   "execution_count": null,
   "id": "2033e1dc-a6f7-410e-8752-fb6af8474649",
   "metadata": {},
   "outputs": [],
   "source": [
    "videos = ['Lips', 'SunBath', 'Netflix_Dancers', 'BuildingHall', 'ToddlerFountain',\n",
    "          'Touchdown_pass','Jockey_1080p', 'Beauty_1080p', 'RushFieldCuts', 'Netflix_TunnelFlag',\n",
    "          'Vidyo4', 'Dark', 'NetflixDinnerScene', 'KristenAndSara', 'Netflix_DrivingPOV']\n",
    "\n",
    "videos.reverse()\n",
    "qps = ['22','27','32','37']\n",
    "\n",
    "for video in tqdm(videos, total = len(videos)):\n",
    "    for qp in qps:\n",
    "        df_features = pd.read_csv('../../VTM-9.0/features/dataset_' + video + '_' + qp + '_features.csv')\n",
    "        df_features = df_features.drop(columns = ['cost','qtdepth', 'mtdepth']).drop_duplicates()\n",
    "        df_features = df_features[((df_features['CU_width'] == 32) & (df_features['CU_height'] == 16)) | ((df_features['CU_width'] == 16) & (df_features['CU_height'] == 32)) | \n",
    "             ((df_features['CU_width'] == 64) & (df_features['CU_height'] == 8)) | ((df_features['CU_width'] == 8) & (df_features['CU_height'] == 64))]\n",
    "        \n",
    "        df_target = pd.read_csv('../datasets/classes/' + video + '_' + qp + '_classes.csv')\n",
    "        \n",
    "        for index, row in df_target.iterrows():\n",
    "            df_features.loc[(df_features['POC'] == row['POC']) & \n",
    "                          (df_features['paramQP'] == row['paramQP']) & \n",
    "                          (df_features['topLeft_x'] <= row['topLeft_x']) & \n",
    "                          (df_features['topLeft_y'] <= row['topLeft_y']) &\n",
    "                          (df_features['bottomRight_x'] >= row['bottomRight_x']) & \n",
    "                          (df_features['bottomRight_y'] >= row['bottomRight_y']), 'target'] = 1\n",
    "            \n",
    "            df_features.loc[(df_features['POC'] == row['POC']) & \n",
    "                          (df_features['paramQP'] == row['paramQP']) & \n",
    "                          (df_features['topLeft_x'] == row['topLeft_x']) & \n",
    "                          (df_features['topLeft_y'] == row['topLeft_y']) &\n",
    "                          (df_features['bottomRight_x'] == row['bottomRight_x']) & \n",
    "                          (df_features['bottomRight_y'] == row['bottomRight_y']), 'target'] = 0\n",
    "            \n",
    "        df_features.loc[(df_features['target'].isnull()), 'target'] = 0\n",
    "        \n",
    "        df_features.to_csv('../datasets/s2/' + video + '_' + qp + '_s2.csv', index = False)\n",
    "\n",
    "dfAll = pd.DataFrame()\n",
    "for video in videos:\n",
    "    for qp in qps:\n",
    "        df = pd.read_csv('../datasets/s2/' + video + '_' + qp + '_s2.csv')\n",
    "        \n",
    "        dfAll = pd.concat([dfAll, df])\n",
    "dfAll.to_csv('../datasets/s2/all_s2.csv', index = False)"
   ]
  },
  {
   "cell_type": "markdown",
   "id": "ceeac2a7-627f-402c-a0ba-f0473a3dee78",
   "metadata": {},
   "source": [
    "### [Variance Drop and RandomUnderSampling]"
   ]
  },
  {
   "cell_type": "code",
   "execution_count": null,
   "id": "271e19c5-4527-4ad4-88b0-7219ef67bd9e",
   "metadata": {},
   "outputs": [],
   "source": [
    "def constantColumns(X, y):\n",
    "    \n",
    "    constant_filter = VarianceThreshold(threshold = 0.01)\n",
    "    constant_filter.fit(X)\n",
    "    xFilter = constant_filter.transform(X)\n",
    "    columnsFilter = X.columns[constant_filter.get_support()]\n",
    "\n",
    "    x_T = xFilter.T\n",
    "    x_T = pd.DataFrame(x_T)\n",
    "\n",
    "    duplicatedFeatures = x_T.duplicated()\n",
    "    featuresToKeep = [not index for index in duplicatedFeatures]\n",
    "\n",
    "    xUnique = x_T[featuresToKeep].T\n",
    "    columnsUnique = columnsFilter[featuresToKeep]\n",
    "\n",
    "    xUnique.columns = columnsUnique\n",
    "    X = xUnique\n",
    "    \n",
    "    return X, y"
   ]
  },
  {
   "cell_type": "code",
   "execution_count": null,
   "id": "3eb9fef2-1e6e-4b0c-8948-a1c5595054ef",
   "metadata": {},
   "outputs": [],
   "source": [
    "datasets = ['s3', 's4', 's5', 's6'] #'s0', 's1', 's2',\n",
    "\n",
    "for d in tnrange(len(datasets)):\n",
    "    df = pd.read_csv('../datasets/' + datasets[d] + '/all_' + datasets[d] + '.csv')\n",
    "    df = df[(df['splitType'] == 2) | (df['splitType'] == 4)]\n",
    "    df.drop(columns = ['splitType', 'videoname'], inplace = True)\n",
    "    X = df.drop(columns = 'target')\n",
    "    y = df['target']\n",
    "    \n",
    "    del df\n",
    "    under = RandomUnderSampler(sampling_strategy={0:450000, 1:450000})\n",
    "    X, y = under.fit_resample(X, y)\n",
    "\n",
    "    X, y = constantColumns(X, y)\n",
    "    df = pd.concat([X, y], axis = 1)\n",
    "    df.to_csv('../datasets/' + datasets[d] + '/horz_' + datasets[d] + '_analisys.csv', index = False)"
   ]
  },
  {
   "cell_type": "markdown",
   "id": "e08b8409-7096-44ed-b6ef-361c571beb0d",
   "metadata": {},
   "source": [
    "### [Features Importance]"
   ]
  },
  {
   "cell_type": "markdown",
   "id": "1ec18df3-d44c-491e-a465-53da259d2410",
   "metadata": {},
   "source": [
    "#### [Mutual Info]"
   ]
  },
  {
   "cell_type": "code",
   "execution_count": null,
   "id": "f5e924ba-0b62-4d75-8a24-c1c76df4fd9f",
   "metadata": {},
   "outputs": [],
   "source": [
    "datasets = ['s0', 's1', 's2', 's3', 's4', 's5', 's6']\n",
    "mi = pd.DataFrame()\n",
    "for i in tnrange(len(datasets)):\n",
    "\n",
    "    df = pd.read_csv('../datasets/' + datasets[i] + '/vert_' + datasets[i] + '.csv')\n",
    "    X = df.drop(columns = 'target')\n",
    "    y = df['target']\n",
    "    \n",
    "    df = mutual_info_classif(X, y)\n",
    "    df = pd.Series(df)\n",
    "    df.index = X.columns\n",
    "    \n",
    "    mi = pd.concat([mi, df], axis = 1, sort = False)\n",
    "mi.columns = datasets\n",
    "mi.to_csv('../feature_importance_mutual_vertical.csv')"
   ]
  },
  {
   "cell_type": "code",
   "execution_count": null,
   "id": "3fe0426d-2987-45e5-b428-497d3661a144",
   "metadata": {},
   "outputs": [],
   "source": [
    "mi = pd.read_csv('../feature_importance_mutual_vertical.csv')\n",
    "mi.set_index('Unnamed: 0', inplace = True)\n",
    "mi.index.name = None\n",
    "\n",
    "mi.plot.bar(figsize = (30,15));\n",
    "plt.ylabel('Mutual Information (MI)')\n",
    "plt.title('Dataset - Vertical')\n",
    "plt.grid()"
   ]
  },
  {
   "cell_type": "code",
   "execution_count": null,
   "id": "b7e34087-2fbf-4a8b-af97-4c6c01b95bcf",
   "metadata": {},
   "outputs": [],
   "source": [
    "axes = mi.plot.bar(figsize = ((15,15)), subplots = True)\n",
    "axes[1].legend(loc=1);"
   ]
  },
  {
   "cell_type": "code",
   "execution_count": null,
   "id": "7c5fcecf-5f58-4ca7-ade4-962b9ff1127f",
   "metadata": {},
   "outputs": [],
   "source": [
    "mi = pd.read_csv('../feature_importance_mutual_horizontal.csv')\n",
    "mi.set_index('Unnamed: 0', inplace = True)\n",
    "mi.index.name = None\n",
    "\n",
    "mi.plot.bar(figsize = (30,15));\n",
    "plt.ylabel('Mutual Information (MI)')\n",
    "plt.title('Dataset - Horizontal')\n",
    "plt.grid()"
   ]
  },
  {
   "cell_type": "code",
   "execution_count": null,
   "id": "d36cbf7b-0495-4043-96a3-7c63fcff6474",
   "metadata": {},
   "outputs": [],
   "source": [
    "axes = mi.plot.bar(figsize = ((15,15)), subplots = True)\n",
    "axes[1].legend(loc=1);"
   ]
  },
  {
   "cell_type": "markdown",
   "id": "b3573464-5a37-4a27-bb7b-71db7a5f1a82",
   "metadata": {},
   "source": [
    "#### [SHAP]"
   ]
  },
  {
   "cell_type": "code",
   "execution_count": null,
   "id": "4933309b-3fb5-4c6b-b071-67089825ff9e",
   "metadata": {},
   "outputs": [],
   "source": [
    "df = pd.read_csv('../datasets/s0/vert_s0.csv')\n",
    "X = df.drop(columns = 'target')\n",
    "y = df['target']\n",
    "\n",
    "X_train, X_test, Y_train, Y_test = train_test_split(X, y, test_size = 0.2)\n",
    "model = RandomForestClassifier().fit(X_train, Y_train)"
   ]
  },
  {
   "cell_type": "code",
   "execution_count": null,
   "id": "b682bac0-6a9e-45cd-bdac-6473b6a5abf7",
   "metadata": {},
   "outputs": [],
   "source": [
    "shap_values = shap.TreeExplainer(model).shap_values(X_train)\n",
    "shap.summary_plot(shap_values, X_train, plot_type = \"bar\")"
   ]
  },
  {
   "cell_type": "code",
   "execution_count": null,
   "id": "d610a7f7-cd1e-4550-96b2-5617ddff675d",
   "metadata": {},
   "outputs": [],
   "source": [
    "shap.summary_plot(shap_values, X_test)"
   ]
  },
  {
   "cell_type": "markdown",
   "id": "60c4c201-1e8e-4dc3-b5fe-cf129c3b5b0e",
   "metadata": {},
   "source": [
    "### [Dataset Size Analisys]"
   ]
  },
  {
   "cell_type": "code",
   "execution_count": null,
   "id": "cf011f41-c91f-4e32-ba4d-630f5392e1a4",
   "metadata": {},
   "outputs": [],
   "source": [
    "scores = []\n",
    "tam = [i for i in range(45000,450001,45000)]\n",
    "datasets = ['s4','s5','s6']#, 's4', 's5', 's6']\n",
    "\n",
    "allscores = pd.DataFrame()\n",
    "for d in tnrange(len(datasets)):\n",
    "\n",
    "    df = pd.read_csv('../datasets/' + datasets[d] + '/vert_' + datasets[d] + '_analisys.csv')\n",
    "\n",
    "    for t in tam:\n",
    "        X = df.drop(columns = 'target')\n",
    "        y = df['target']\n",
    "        under = RandomUnderSampler(sampling_strategy={0:t, 1:t})\n",
    "        X, y = under.fit_resample(X, y)\n",
    "\n",
    "        X, XT, y, yT = train_test_split(X, y, test_size = 0.25)\n",
    "        forest = RandomForestClassifier().fit(X, y)\n",
    "        scores.append(forest.score(XT, yT))\n",
    "    allscores = pd.concat([allscores, pd.DataFrame(scores)], sort = False, axis = 1)"
   ]
  },
  {
   "cell_type": "code",
   "execution_count": null,
   "id": "15c05a18-b112-4c38-bd42-9b9d5f154a30",
   "metadata": {},
   "outputs": [],
   "source": [
    "sizes = [i for i in range(90000,900001,90000)]\n",
    "plt.figure(figsize=(10, 7))\n",
    "plt.plot(sizes, np.array(scoresS3)*100, linewidth=2, marker='o', color = 'tab:red')\n",
    "plt.plot(sizes, np.array(scoresS4)*100, linewidth=2, marker='o', color = 'tab:orange')\n",
    "plt.plot(sizes, np.array(scoresS5)*100, linewidth=2, marker='o', color = 'tab:olive')\n",
    "plt.plot(sizes, np.array(scoresS6)*100, linewidth=2, marker='o', color = 'tab:green')\n",
    "plt.title('MTT Vertical')\n",
    "plt.ylabel('Acurácia (%)')\n",
    "plt.xlabel('Quantidade de Instâncias')\n",
    "plt.legend(['S3', 'S4', 'S5', 'S6'])\n",
    "plt.grid();"
   ]
  },
  {
   "cell_type": "code",
   "execution_count": null,
   "id": "64832afd-5cbc-46fe-8829-0406c80f1391",
   "metadata": {},
   "outputs": [],
   "source": []
  }
 ],
 "metadata": {
  "kernelspec": {
   "display_name": "Python 3 (ipykernel)",
   "language": "python",
   "name": "python3"
  },
  "language_info": {
   "codemirror_mode": {
    "name": "ipython",
    "version": 3
   },
   "file_extension": ".py",
   "mimetype": "text/x-python",
   "name": "python",
   "nbconvert_exporter": "python",
   "pygments_lexer": "ipython3",
   "version": "3.7.6"
  }
 },
 "nbformat": 4,
 "nbformat_minor": 5
}
