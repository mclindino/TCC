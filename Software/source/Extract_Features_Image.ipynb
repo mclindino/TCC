{
 "cells": [
  {
   "cell_type": "markdown",
   "metadata": {
    "tags": []
   },
   "source": [
    "### [Bibliotecas]"
   ]
  },
  {
   "cell_type": "code",
   "execution_count": 1,
   "metadata": {},
   "outputs": [],
   "source": [
    "import numpy as np\n",
    "import matplotlib.pyplot as plt\n",
    "import pandas as pd\n",
    "import seaborn as sns\n",
    "import scipy\n",
    "import plotly.express as px\n",
    "\n",
    "from datasetCleaner import *\n",
    "from YUVHandler import *\n",
    "from pixelFeatures import *\n",
    "from sklearn.feature_selection import mutual_info_classif, VarianceThreshold, SelectPercentile\n",
    "from sklearn.ensemble import RandomForestClassifier as RF\n",
    "from sklearn.model_selection import cross_val_predict, train_test_split, cross_val_score\n",
    "from sklearn.metrics import confusion_matrix, f1_score\n",
    "from imblearn.under_sampling import RandomUnderSampler\n",
    "from imblearn.over_sampling import SMOTE"
   ]
  },
  {
   "cell_type": "markdown",
   "metadata": {},
   "source": [
    "### [Leitura de YUV]"
   ]
  },
  {
   "cell_type": "code",
   "execution_count": null,
   "metadata": {},
   "outputs": [],
   "source": [
    "video_file = '/home/lindino/Documentos/(YUV) Videos/BasketballPass_416x240_50.yuv'\n",
    "width = 416\n",
    "height = 240\n",
    "\n",
    "# Aquisição das matrizes Y, U e V\n",
    "yuv_handle = YUVHandler(video_file, width, height)\n",
    "Y, U, V = yuv_handle.get_frame_arrays()\n",
    "yuv_handle.plot_frame(Y[0], U[0], V[0])\n",
    "\n",
    "# Converter para 16 bits\n",
    "Y = np.uint16(Y)\n",
    "Y = Y*4\n",
    "imageInput = np.pad(Y[0], (0,128), mode='edge')"
   ]
  },
  {
   "cell_type": "code",
   "execution_count": null,
   "metadata": {},
   "outputs": [],
   "source": [
    "qps = ['22', '27', '32', '37']\n",
    "dfAll = pd.DataFrame()\n",
    "\n",
    "for qp in qps:\n",
    "    df_features = pd.read_csv('../../VTM-9.0/features/dataset_BasketballPass_' + qp + '_features.csv', usecols = ['videoname','paramQP','frameWidth','frameHeight','CU_width','CU_height','topLeft_x','topLeft_y','bottomRight_x','bottomRight_y','POC','qtdepth','mtdepth','splitType', 'cost'])\n",
    "    df_target = pd.read_csv('../../VTM-9.0/target/dataset_BasketballPass_' + qp + '_target.csv')\n",
    "    \n",
    "    df_features['splitType'] = df_features['splitType'].replace('QUAD_SPLIT', 1)\n",
    "    df_features['splitType'] = df_features['splitType'].replace('BI_HORZ_SPLIT', 2)\n",
    "    df_features['splitType'] = df_features['splitType'].replace('BI_VERT_SPLIT', 3)\n",
    "    df_features['splitType'] = df_features['splitType'].replace('TRI_HORZ_SPLIT', 4)\n",
    "    df_features['splitType'] = df_features['splitType'].replace('TRI_VERT_SPLIT', 5)\n",
    "    \n",
    "    splits = ['QT_SPLIT', 'BI_HORZ', 'BI_VERT', 'TRI_HORZ', 'TRI_VERT']\n",
    "\n",
    "    for i in range(0, len(splits)):\n",
    "        df_features['splitType'] = df_features['splitType'].replace(i+1, splits[i])\n",
    "        df_target['splitType'] = df_target['splitType'].replace(i+1, splits[i])\n",
    "\n",
    "    '''df_features = df_features.groupby(by=['videoname','paramQP','frameWidth','frameHeight','CU_width','CU_height','topLeft_x','topLeft_y','bottomRight_x','bottomRight_y','POC','qtdepth','mtdepth','splitType']).min()\n",
    "    df_features = df_features.reset_index()\n",
    "    df_features = df_features.drop_duplicates()\n",
    "    df_features = df_features.query('bottomRight_x > 0 & bottomRight_y > 0')\n",
    "    df_features = df_features.reset_index(drop = True)'''\n",
    "\n",
    "    df_target = df_target.groupby(by=['videoname','paramQP','frameWidth','frameHeight','CU_width','CU_height','topLeft_x','topLeft_y','bottomRight_x','bottomRight_y','POC','qtdepth','mtdepth','splitType']).min()\n",
    "    df_target = df_target.reset_index()\n",
    "    df_target = df_target.drop_duplicates()\n",
    "    df_target = df_target.query('bottomRight_x > 0 & bottomRight_y > 0')\n",
    "    df_target = df_target.reset_index(drop = True)\n",
    "    \n",
    "    df = pd.merge(df_features, df_target, on=['videoname','paramQP','frameWidth','frameHeight','CU_width','CU_height','topLeft_x','topLeft_y','bottomRight_x','bottomRight_y','POC','qtdepth','mtdepth','splitType'])\n",
    "    df.drop_duplicates(inplace = True)\n",
    "    df.reset_index(inplace = True, drop = True)\n",
    "    df['target'] = df['cost'] > df['RDCost']\n",
    "    df['target'] = df['target'].apply(lambda x : 1 if x else 0)\n",
    "    df = df.drop(columns = ['cost', 'RDCost'])\n",
    "    \n",
    "    dfAll = pd.concat([dfAll, df])\n",
    "\n",
    "dfAll.reset_index(inplace = True, drop = True)\n",
    "dfAll.to_csv('../datasets/all/VTM.csv', index = False)"
   ]
  },
  {
   "cell_type": "code",
   "execution_count": null,
   "metadata": {},
   "outputs": [],
   "source": [
    "qp = '22'\n",
    "df_features = pd.read_csv('../../VTM-9.0/features/dataset_BasketballPass_' + qp + '_features.csv')\n",
    "df_target = pd.read_csv('../../VTM-9.0/target/dataset_BasketballPass_22_target.csv')\n",
    "\n",
    "df_features['splitType'] = df_features['splitType'].replace('QUAD_SPLIT', 1)\n",
    "df_features['splitType'] = df_features['splitType'].replace('BI_HORZ_SPLIT', 2)\n",
    "df_features['splitType'] = df_features['splitType'].replace('BI_VERT_SPLIT', 3)\n",
    "df_features['splitType'] = df_features['splitType'].replace('TRI_HORZ_SPLIT', 4)\n",
    "df_features['splitType'] = df_features['splitType'].replace('TRI_VERT_SPLIT', 5)"
   ]
  },
  {
   "cell_type": "code",
   "execution_count": null,
   "metadata": {},
   "outputs": [],
   "source": [
    "df = pd.read_csv('../datasets/all/VTM_pixelCTU.csv')\n",
    "df['target'].value_counts()"
   ]
  },
  {
   "cell_type": "markdown",
   "metadata": {},
   "source": [
    "### [S0]"
   ]
  },
  {
   "cell_type": "markdown",
   "metadata": {},
   "source": [
    "#### [Dataset]"
   ]
  },
  {
   "cell_type": "code",
   "execution_count": null,
   "metadata": {},
   "outputs": [],
   "source": [
    "pixel_features = pixelFeatures('BasketballPass', Y, width, height, 16)\n",
    "splits = ['QT_SPLIT', 'BI_HORZ', 'BI_VERT', 'TRI_HORZ', 'TRI_VERT']\n",
    "\n",
    "for split in splits:\n",
    "    df = pixel_features.extractFeatures(128, 128, split)\n",
    "    df.to_csv('../datasets/all/s0_' + split + '_PIXEL.csv', index = False)"
   ]
  },
  {
   "cell_type": "code",
   "execution_count": null,
   "metadata": {},
   "outputs": [],
   "source": [
    "pd.read_csv('../datasets/all/s0_QT_SPLIT_PIXEL.csv')"
   ]
  },
  {
   "cell_type": "code",
   "execution_count": 2,
   "metadata": {},
   "outputs": [],
   "source": [
    "splits = ['QT_SPLIT', 'BI_HORZ', 'BI_VERT', 'TRI_HORZ', 'TRI_VERT']\n",
    "\n",
    "for split in splits:\n",
    "    dfVTM = pd.read_csv('../datasets/all/VTM.csv')\n",
    "    dfPixel = '../datasets/all/s0_' + split + '_PIXEL.csv')\n",
    "    dfVTM = dfVTM[dfVTM['splitType'] == split]\n",
    "    df = pd.merge(dfVTM, dfPixel, on = ['topLeft_x', 'topLeft_y','bottomRight_x','bottomRight_y','POC', 'CU_width', 'CU_height', 'videoname'])\n",
    "    df.to_csv('../datasets/' + split + '/s0.csv', index = False)"
   ]
  },
  {
   "cell_type": "code",
   "execution_count": null,
   "metadata": {},
   "outputs": [],
   "source": [
    "pixel_features = pixelFeatures('BasketballPass', Y, width, height, 4)\n",
    "\n",
    "pixel_features.concatenateDataFrames('VTM', 's0')"
   ]
  },
  {
   "cell_type": "code",
   "execution_count": null,
   "metadata": {},
   "outputs": [],
   "source": [
    "vtm = pd.read_csv('../datasets/all/VTM_pixelCTU.csv')\n",
    "splits = ['QT_SPLIT', 'BI_HORZ', 'BI_VERT', 'TRI_HORZ', 'TRI_VERT']\n",
    "\n",
    "for split in splits:\n",
    "    df = vtm.query('CU_width == 128 & CU_height == 128')\n",
    "    df = df[df['splitType'] == split]\n",
    "    df.to_csv('../datasets/' + split + '/s0.csv', index = False)"
   ]
  },
  {
   "cell_type": "code",
   "execution_count": 12,
   "metadata": {},
   "outputs": [
    {
     "data": {
      "text/html": [
       "<div>\n",
       "<style scoped>\n",
       "    .dataframe tbody tr th:only-of-type {\n",
       "        vertical-align: middle;\n",
       "    }\n",
       "\n",
       "    .dataframe tbody tr th {\n",
       "        vertical-align: top;\n",
       "    }\n",
       "\n",
       "    .dataframe thead th {\n",
       "        text-align: right;\n",
       "    }\n",
       "</style>\n",
       "<table border=\"1\" class=\"dataframe\">\n",
       "  <thead>\n",
       "    <tr style=\"text-align: right;\">\n",
       "      <th></th>\n",
       "      <th>videoname</th>\n",
       "      <th>frameWidth</th>\n",
       "      <th>frameHeight</th>\n",
       "      <th>paramQP</th>\n",
       "      <th>CU_width</th>\n",
       "      <th>CU_height</th>\n",
       "      <th>topLeft_x</th>\n",
       "      <th>topLeft_y</th>\n",
       "      <th>bottomRight_x</th>\n",
       "      <th>bottomRight_y</th>\n",
       "      <th>...</th>\n",
       "      <th>quarter3GradH</th>\n",
       "      <th>quarter3GradV</th>\n",
       "      <th>quarter3RatioGrad</th>\n",
       "      <th>quarter3Sum</th>\n",
       "      <th>quarter4Var</th>\n",
       "      <th>quarter4Mean</th>\n",
       "      <th>quarter4GradH</th>\n",
       "      <th>quarter4GradV</th>\n",
       "      <th>quarter4RatioGrad</th>\n",
       "      <th>quarter4Sum</th>\n",
       "    </tr>\n",
       "  </thead>\n",
       "  <tbody>\n",
       "    <tr>\n",
       "      <th>0</th>\n",
       "      <td>BasketballPass</td>\n",
       "      <td>416</td>\n",
       "      <td>240</td>\n",
       "      <td>27</td>\n",
       "      <td>128</td>\n",
       "      <td>128</td>\n",
       "      <td>128</td>\n",
       "      <td>0</td>\n",
       "      <td>255</td>\n",
       "      <td>127</td>\n",
       "      <td>...</td>\n",
       "      <td>46880.0</td>\n",
       "      <td>48064.0</td>\n",
       "      <td>0.975366</td>\n",
       "      <td>2227120.0</td>\n",
       "      <td>3565.411831</td>\n",
       "      <td>501.193359</td>\n",
       "      <td>23968.0</td>\n",
       "      <td>3200.0</td>\n",
       "      <td>7.490000</td>\n",
       "      <td>2052888.0</td>\n",
       "    </tr>\n",
       "    <tr>\n",
       "      <th>1</th>\n",
       "      <td>BasketballPass</td>\n",
       "      <td>416</td>\n",
       "      <td>240</td>\n",
       "      <td>32</td>\n",
       "      <td>128</td>\n",
       "      <td>128</td>\n",
       "      <td>128</td>\n",
       "      <td>0</td>\n",
       "      <td>255</td>\n",
       "      <td>127</td>\n",
       "      <td>...</td>\n",
       "      <td>46880.0</td>\n",
       "      <td>48064.0</td>\n",
       "      <td>0.975366</td>\n",
       "      <td>2227120.0</td>\n",
       "      <td>3565.411831</td>\n",
       "      <td>501.193359</td>\n",
       "      <td>23968.0</td>\n",
       "      <td>3200.0</td>\n",
       "      <td>7.490000</td>\n",
       "      <td>2052888.0</td>\n",
       "    </tr>\n",
       "    <tr>\n",
       "      <th>2</th>\n",
       "      <td>BasketballPass</td>\n",
       "      <td>416</td>\n",
       "      <td>240</td>\n",
       "      <td>37</td>\n",
       "      <td>128</td>\n",
       "      <td>128</td>\n",
       "      <td>128</td>\n",
       "      <td>0</td>\n",
       "      <td>255</td>\n",
       "      <td>127</td>\n",
       "      <td>...</td>\n",
       "      <td>46880.0</td>\n",
       "      <td>48064.0</td>\n",
       "      <td>0.975366</td>\n",
       "      <td>2227120.0</td>\n",
       "      <td>3565.411831</td>\n",
       "      <td>501.193359</td>\n",
       "      <td>23968.0</td>\n",
       "      <td>3200.0</td>\n",
       "      <td>7.490000</td>\n",
       "      <td>2052888.0</td>\n",
       "    </tr>\n",
       "    <tr>\n",
       "      <th>3</th>\n",
       "      <td>BasketballPass</td>\n",
       "      <td>416</td>\n",
       "      <td>240</td>\n",
       "      <td>32</td>\n",
       "      <td>128</td>\n",
       "      <td>128</td>\n",
       "      <td>128</td>\n",
       "      <td>0</td>\n",
       "      <td>255</td>\n",
       "      <td>127</td>\n",
       "      <td>...</td>\n",
       "      <td>46784.0</td>\n",
       "      <td>47936.0</td>\n",
       "      <td>0.975968</td>\n",
       "      <td>2223864.0</td>\n",
       "      <td>3417.642029</td>\n",
       "      <td>501.851562</td>\n",
       "      <td>10528.0</td>\n",
       "      <td>3040.0</td>\n",
       "      <td>3.463158</td>\n",
       "      <td>2055584.0</td>\n",
       "    </tr>\n",
       "    <tr>\n",
       "      <th>4</th>\n",
       "      <td>BasketballPass</td>\n",
       "      <td>416</td>\n",
       "      <td>240</td>\n",
       "      <td>32</td>\n",
       "      <td>128</td>\n",
       "      <td>128</td>\n",
       "      <td>128</td>\n",
       "      <td>0</td>\n",
       "      <td>255</td>\n",
       "      <td>127</td>\n",
       "      <td>...</td>\n",
       "      <td>47040.0</td>\n",
       "      <td>48192.0</td>\n",
       "      <td>0.976096</td>\n",
       "      <td>2225420.0</td>\n",
       "      <td>3506.076035</td>\n",
       "      <td>502.761719</td>\n",
       "      <td>11904.0</td>\n",
       "      <td>3616.0</td>\n",
       "      <td>3.292035</td>\n",
       "      <td>2059312.0</td>\n",
       "    </tr>\n",
       "    <tr>\n",
       "      <th>5</th>\n",
       "      <td>BasketballPass</td>\n",
       "      <td>416</td>\n",
       "      <td>240</td>\n",
       "      <td>37</td>\n",
       "      <td>128</td>\n",
       "      <td>128</td>\n",
       "      <td>128</td>\n",
       "      <td>0</td>\n",
       "      <td>255</td>\n",
       "      <td>127</td>\n",
       "      <td>...</td>\n",
       "      <td>47040.0</td>\n",
       "      <td>48192.0</td>\n",
       "      <td>0.976096</td>\n",
       "      <td>2225420.0</td>\n",
       "      <td>3506.076035</td>\n",
       "      <td>502.761719</td>\n",
       "      <td>11904.0</td>\n",
       "      <td>3616.0</td>\n",
       "      <td>3.292035</td>\n",
       "      <td>2059312.0</td>\n",
       "    </tr>\n",
       "    <tr>\n",
       "      <th>6</th>\n",
       "      <td>BasketballPass</td>\n",
       "      <td>416</td>\n",
       "      <td>240</td>\n",
       "      <td>32</td>\n",
       "      <td>128</td>\n",
       "      <td>128</td>\n",
       "      <td>128</td>\n",
       "      <td>0</td>\n",
       "      <td>255</td>\n",
       "      <td>127</td>\n",
       "      <td>...</td>\n",
       "      <td>46656.0</td>\n",
       "      <td>47744.0</td>\n",
       "      <td>0.977212</td>\n",
       "      <td>2227484.0</td>\n",
       "      <td>4128.301772</td>\n",
       "      <td>503.288086</td>\n",
       "      <td>29760.0</td>\n",
       "      <td>3392.0</td>\n",
       "      <td>8.773585</td>\n",
       "      <td>2061468.0</td>\n",
       "    </tr>\n",
       "    <tr>\n",
       "      <th>7</th>\n",
       "      <td>BasketballPass</td>\n",
       "      <td>416</td>\n",
       "      <td>240</td>\n",
       "      <td>37</td>\n",
       "      <td>128</td>\n",
       "      <td>128</td>\n",
       "      <td>128</td>\n",
       "      <td>0</td>\n",
       "      <td>255</td>\n",
       "      <td>127</td>\n",
       "      <td>...</td>\n",
       "      <td>46656.0</td>\n",
       "      <td>47744.0</td>\n",
       "      <td>0.977212</td>\n",
       "      <td>2227484.0</td>\n",
       "      <td>4128.301772</td>\n",
       "      <td>503.288086</td>\n",
       "      <td>29760.0</td>\n",
       "      <td>3392.0</td>\n",
       "      <td>8.773585</td>\n",
       "      <td>2061468.0</td>\n",
       "    </tr>\n",
       "    <tr>\n",
       "      <th>8</th>\n",
       "      <td>BasketballPass</td>\n",
       "      <td>416</td>\n",
       "      <td>240</td>\n",
       "      <td>37</td>\n",
       "      <td>128</td>\n",
       "      <td>128</td>\n",
       "      <td>128</td>\n",
       "      <td>0</td>\n",
       "      <td>255</td>\n",
       "      <td>127</td>\n",
       "      <td>...</td>\n",
       "      <td>46784.0</td>\n",
       "      <td>48032.0</td>\n",
       "      <td>0.974017</td>\n",
       "      <td>2225388.0</td>\n",
       "      <td>3438.377509</td>\n",
       "      <td>502.520508</td>\n",
       "      <td>10656.0</td>\n",
       "      <td>3264.0</td>\n",
       "      <td>3.264706</td>\n",
       "      <td>2058324.0</td>\n",
       "    </tr>\n",
       "    <tr>\n",
       "      <th>9</th>\n",
       "      <td>BasketballPass</td>\n",
       "      <td>416</td>\n",
       "      <td>240</td>\n",
       "      <td>37</td>\n",
       "      <td>128</td>\n",
       "      <td>128</td>\n",
       "      <td>0</td>\n",
       "      <td>0</td>\n",
       "      <td>127</td>\n",
       "      <td>127</td>\n",
       "      <td>...</td>\n",
       "      <td>62976.0</td>\n",
       "      <td>41952.0</td>\n",
       "      <td>1.501144</td>\n",
       "      <td>1651576.0</td>\n",
       "      <td>21601.168349</td>\n",
       "      <td>443.524414</td>\n",
       "      <td>29568.0</td>\n",
       "      <td>42304.0</td>\n",
       "      <td>0.698941</td>\n",
       "      <td>1816676.0</td>\n",
       "    </tr>\n",
       "    <tr>\n",
       "      <th>10</th>\n",
       "      <td>BasketballPass</td>\n",
       "      <td>416</td>\n",
       "      <td>240</td>\n",
       "      <td>37</td>\n",
       "      <td>128</td>\n",
       "      <td>128</td>\n",
       "      <td>256</td>\n",
       "      <td>0</td>\n",
       "      <td>383</td>\n",
       "      <td>127</td>\n",
       "      <td>...</td>\n",
       "      <td>58240.0</td>\n",
       "      <td>59040.0</td>\n",
       "      <td>0.986450</td>\n",
       "      <td>1810140.0</td>\n",
       "      <td>2254.478989</td>\n",
       "      <td>453.808594</td>\n",
       "      <td>15168.0</td>\n",
       "      <td>608.0</td>\n",
       "      <td>24.947368</td>\n",
       "      <td>1858800.0</td>\n",
       "    </tr>\n",
       "    <tr>\n",
       "      <th>11</th>\n",
       "      <td>BasketballPass</td>\n",
       "      <td>416</td>\n",
       "      <td>240</td>\n",
       "      <td>37</td>\n",
       "      <td>128</td>\n",
       "      <td>128</td>\n",
       "      <td>256</td>\n",
       "      <td>0</td>\n",
       "      <td>383</td>\n",
       "      <td>127</td>\n",
       "      <td>...</td>\n",
       "      <td>60960.0</td>\n",
       "      <td>60704.0</td>\n",
       "      <td>1.004217</td>\n",
       "      <td>1817968.0</td>\n",
       "      <td>2244.055350</td>\n",
       "      <td>453.721680</td>\n",
       "      <td>14880.0</td>\n",
       "      <td>640.0</td>\n",
       "      <td>23.250000</td>\n",
       "      <td>1858444.0</td>\n",
       "    </tr>\n",
       "    <tr>\n",
       "      <th>12</th>\n",
       "      <td>BasketballPass</td>\n",
       "      <td>416</td>\n",
       "      <td>240</td>\n",
       "      <td>37</td>\n",
       "      <td>128</td>\n",
       "      <td>128</td>\n",
       "      <td>0</td>\n",
       "      <td>0</td>\n",
       "      <td>127</td>\n",
       "      <td>127</td>\n",
       "      <td>...</td>\n",
       "      <td>13472.0</td>\n",
       "      <td>55712.0</td>\n",
       "      <td>0.241815</td>\n",
       "      <td>1590036.0</td>\n",
       "      <td>20060.968349</td>\n",
       "      <td>491.287109</td>\n",
       "      <td>34784.0</td>\n",
       "      <td>37344.0</td>\n",
       "      <td>0.931448</td>\n",
       "      <td>2012312.0</td>\n",
       "    </tr>\n",
       "    <tr>\n",
       "      <th>13</th>\n",
       "      <td>BasketballPass</td>\n",
       "      <td>416</td>\n",
       "      <td>240</td>\n",
       "      <td>37</td>\n",
       "      <td>128</td>\n",
       "      <td>128</td>\n",
       "      <td>128</td>\n",
       "      <td>0</td>\n",
       "      <td>255</td>\n",
       "      <td>127</td>\n",
       "      <td>...</td>\n",
       "      <td>46976.0</td>\n",
       "      <td>48064.0</td>\n",
       "      <td>0.977364</td>\n",
       "      <td>2226568.0</td>\n",
       "      <td>3781.612540</td>\n",
       "      <td>503.872070</td>\n",
       "      <td>25024.0</td>\n",
       "      <td>3168.0</td>\n",
       "      <td>7.898990</td>\n",
       "      <td>2063860.0</td>\n",
       "    </tr>\n",
       "    <tr>\n",
       "      <th>14</th>\n",
       "      <td>BasketballPass</td>\n",
       "      <td>416</td>\n",
       "      <td>240</td>\n",
       "      <td>37</td>\n",
       "      <td>128</td>\n",
       "      <td>128</td>\n",
       "      <td>0</td>\n",
       "      <td>0</td>\n",
       "      <td>127</td>\n",
       "      <td>127</td>\n",
       "      <td>...</td>\n",
       "      <td>25536.0</td>\n",
       "      <td>57440.0</td>\n",
       "      <td>0.444568</td>\n",
       "      <td>1538036.0</td>\n",
       "      <td>16395.652205</td>\n",
       "      <td>509.290039</td>\n",
       "      <td>61856.0</td>\n",
       "      <td>35968.0</td>\n",
       "      <td>1.719751</td>\n",
       "      <td>2086052.0</td>\n",
       "    </tr>\n",
       "    <tr>\n",
       "      <th>15</th>\n",
       "      <td>BasketballPass</td>\n",
       "      <td>416</td>\n",
       "      <td>240</td>\n",
       "      <td>37</td>\n",
       "      <td>128</td>\n",
       "      <td>128</td>\n",
       "      <td>256</td>\n",
       "      <td>0</td>\n",
       "      <td>383</td>\n",
       "      <td>127</td>\n",
       "      <td>...</td>\n",
       "      <td>41184.0</td>\n",
       "      <td>65152.0</td>\n",
       "      <td>0.632122</td>\n",
       "      <td>1836512.0</td>\n",
       "      <td>2257.051998</td>\n",
       "      <td>454.310547</td>\n",
       "      <td>15040.0</td>\n",
       "      <td>256.0</td>\n",
       "      <td>58.750000</td>\n",
       "      <td>1860856.0</td>\n",
       "    </tr>\n",
       "    <tr>\n",
       "      <th>16</th>\n",
       "      <td>BasketballPass</td>\n",
       "      <td>416</td>\n",
       "      <td>240</td>\n",
       "      <td>37</td>\n",
       "      <td>128</td>\n",
       "      <td>128</td>\n",
       "      <td>0</td>\n",
       "      <td>0</td>\n",
       "      <td>127</td>\n",
       "      <td>127</td>\n",
       "      <td>...</td>\n",
       "      <td>44512.0</td>\n",
       "      <td>56320.0</td>\n",
       "      <td>0.790341</td>\n",
       "      <td>1511988.0</td>\n",
       "      <td>14827.370083</td>\n",
       "      <td>519.755859</td>\n",
       "      <td>43520.0</td>\n",
       "      <td>26176.0</td>\n",
       "      <td>1.662592</td>\n",
       "      <td>2128920.0</td>\n",
       "    </tr>\n",
       "    <tr>\n",
       "      <th>17</th>\n",
       "      <td>BasketballPass</td>\n",
       "      <td>416</td>\n",
       "      <td>240</td>\n",
       "      <td>37</td>\n",
       "      <td>128</td>\n",
       "      <td>128</td>\n",
       "      <td>0</td>\n",
       "      <td>0</td>\n",
       "      <td>127</td>\n",
       "      <td>127</td>\n",
       "      <td>...</td>\n",
       "      <td>34400.0</td>\n",
       "      <td>61760.0</td>\n",
       "      <td>0.556995</td>\n",
       "      <td>1500056.0</td>\n",
       "      <td>12345.531074</td>\n",
       "      <td>530.395508</td>\n",
       "      <td>61824.0</td>\n",
       "      <td>12160.0</td>\n",
       "      <td>5.084211</td>\n",
       "      <td>2172500.0</td>\n",
       "    </tr>\n",
       "    <tr>\n",
       "      <th>18</th>\n",
       "      <td>BasketballPass</td>\n",
       "      <td>416</td>\n",
       "      <td>240</td>\n",
       "      <td>37</td>\n",
       "      <td>128</td>\n",
       "      <td>128</td>\n",
       "      <td>128</td>\n",
       "      <td>0</td>\n",
       "      <td>255</td>\n",
       "      <td>127</td>\n",
       "      <td>...</td>\n",
       "      <td>45952.0</td>\n",
       "      <td>48064.0</td>\n",
       "      <td>0.956059</td>\n",
       "      <td>2227636.0</td>\n",
       "      <td>3171.833388</td>\n",
       "      <td>499.024414</td>\n",
       "      <td>12064.0</td>\n",
       "      <td>3552.0</td>\n",
       "      <td>3.396396</td>\n",
       "      <td>2044004.0</td>\n",
       "    </tr>\n",
       "    <tr>\n",
       "      <th>19</th>\n",
       "      <td>BasketballPass</td>\n",
       "      <td>416</td>\n",
       "      <td>240</td>\n",
       "      <td>37</td>\n",
       "      <td>128</td>\n",
       "      <td>128</td>\n",
       "      <td>128</td>\n",
       "      <td>0</td>\n",
       "      <td>255</td>\n",
       "      <td>127</td>\n",
       "      <td>...</td>\n",
       "      <td>47008.0</td>\n",
       "      <td>47584.0</td>\n",
       "      <td>0.987895</td>\n",
       "      <td>2227744.0</td>\n",
       "      <td>3323.388577</td>\n",
       "      <td>498.509766</td>\n",
       "      <td>12352.0</td>\n",
       "      <td>3008.0</td>\n",
       "      <td>4.106383</td>\n",
       "      <td>2041896.0</td>\n",
       "    </tr>\n",
       "    <tr>\n",
       "      <th>20</th>\n",
       "      <td>BasketballPass</td>\n",
       "      <td>416</td>\n",
       "      <td>240</td>\n",
       "      <td>37</td>\n",
       "      <td>128</td>\n",
       "      <td>128</td>\n",
       "      <td>0</td>\n",
       "      <td>0</td>\n",
       "      <td>127</td>\n",
       "      <td>127</td>\n",
       "      <td>...</td>\n",
       "      <td>40544.0</td>\n",
       "      <td>57600.0</td>\n",
       "      <td>0.703889</td>\n",
       "      <td>1478104.0</td>\n",
       "      <td>9560.726059</td>\n",
       "      <td>542.566406</td>\n",
       "      <td>57376.0</td>\n",
       "      <td>5920.0</td>\n",
       "      <td>9.691892</td>\n",
       "      <td>2222352.0</td>\n",
       "    </tr>\n",
       "    <tr>\n",
       "      <th>21</th>\n",
       "      <td>BasketballPass</td>\n",
       "      <td>416</td>\n",
       "      <td>240</td>\n",
       "      <td>37</td>\n",
       "      <td>128</td>\n",
       "      <td>128</td>\n",
       "      <td>128</td>\n",
       "      <td>0</td>\n",
       "      <td>255</td>\n",
       "      <td>127</td>\n",
       "      <td>...</td>\n",
       "      <td>46848.0</td>\n",
       "      <td>48192.0</td>\n",
       "      <td>0.972112</td>\n",
       "      <td>2227220.0</td>\n",
       "      <td>3624.189948</td>\n",
       "      <td>497.926758</td>\n",
       "      <td>7616.0</td>\n",
       "      <td>3072.0</td>\n",
       "      <td>2.479167</td>\n",
       "      <td>2039508.0</td>\n",
       "    </tr>\n",
       "  </tbody>\n",
       "</table>\n",
       "<p>22 rows × 45 columns</p>\n",
       "</div>"
      ],
      "text/plain": [
       "         videoname  frameWidth  frameHeight  paramQP  CU_width  CU_height  \\\n",
       "0   BasketballPass         416          240       27       128        128   \n",
       "1   BasketballPass         416          240       32       128        128   \n",
       "2   BasketballPass         416          240       37       128        128   \n",
       "3   BasketballPass         416          240       32       128        128   \n",
       "4   BasketballPass         416          240       32       128        128   \n",
       "5   BasketballPass         416          240       37       128        128   \n",
       "6   BasketballPass         416          240       32       128        128   \n",
       "7   BasketballPass         416          240       37       128        128   \n",
       "8   BasketballPass         416          240       37       128        128   \n",
       "9   BasketballPass         416          240       37       128        128   \n",
       "10  BasketballPass         416          240       37       128        128   \n",
       "11  BasketballPass         416          240       37       128        128   \n",
       "12  BasketballPass         416          240       37       128        128   \n",
       "13  BasketballPass         416          240       37       128        128   \n",
       "14  BasketballPass         416          240       37       128        128   \n",
       "15  BasketballPass         416          240       37       128        128   \n",
       "16  BasketballPass         416          240       37       128        128   \n",
       "17  BasketballPass         416          240       37       128        128   \n",
       "18  BasketballPass         416          240       37       128        128   \n",
       "19  BasketballPass         416          240       37       128        128   \n",
       "20  BasketballPass         416          240       37       128        128   \n",
       "21  BasketballPass         416          240       37       128        128   \n",
       "\n",
       "    topLeft_x  topLeft_y  bottomRight_x  bottomRight_y  ...  quarter3GradH  \\\n",
       "0         128          0            255            127  ...        46880.0   \n",
       "1         128          0            255            127  ...        46880.0   \n",
       "2         128          0            255            127  ...        46880.0   \n",
       "3         128          0            255            127  ...        46784.0   \n",
       "4         128          0            255            127  ...        47040.0   \n",
       "5         128          0            255            127  ...        47040.0   \n",
       "6         128          0            255            127  ...        46656.0   \n",
       "7         128          0            255            127  ...        46656.0   \n",
       "8         128          0            255            127  ...        46784.0   \n",
       "9           0          0            127            127  ...        62976.0   \n",
       "10        256          0            383            127  ...        58240.0   \n",
       "11        256          0            383            127  ...        60960.0   \n",
       "12          0          0            127            127  ...        13472.0   \n",
       "13        128          0            255            127  ...        46976.0   \n",
       "14          0          0            127            127  ...        25536.0   \n",
       "15        256          0            383            127  ...        41184.0   \n",
       "16          0          0            127            127  ...        44512.0   \n",
       "17          0          0            127            127  ...        34400.0   \n",
       "18        128          0            255            127  ...        45952.0   \n",
       "19        128          0            255            127  ...        47008.0   \n",
       "20          0          0            127            127  ...        40544.0   \n",
       "21        128          0            255            127  ...        46848.0   \n",
       "\n",
       "    quarter3GradV  quarter3RatioGrad quarter3Sum   quarter4Var  quarter4Mean  \\\n",
       "0         48064.0           0.975366   2227120.0   3565.411831    501.193359   \n",
       "1         48064.0           0.975366   2227120.0   3565.411831    501.193359   \n",
       "2         48064.0           0.975366   2227120.0   3565.411831    501.193359   \n",
       "3         47936.0           0.975968   2223864.0   3417.642029    501.851562   \n",
       "4         48192.0           0.976096   2225420.0   3506.076035    502.761719   \n",
       "5         48192.0           0.976096   2225420.0   3506.076035    502.761719   \n",
       "6         47744.0           0.977212   2227484.0   4128.301772    503.288086   \n",
       "7         47744.0           0.977212   2227484.0   4128.301772    503.288086   \n",
       "8         48032.0           0.974017   2225388.0   3438.377509    502.520508   \n",
       "9         41952.0           1.501144   1651576.0  21601.168349    443.524414   \n",
       "10        59040.0           0.986450   1810140.0   2254.478989    453.808594   \n",
       "11        60704.0           1.004217   1817968.0   2244.055350    453.721680   \n",
       "12        55712.0           0.241815   1590036.0  20060.968349    491.287109   \n",
       "13        48064.0           0.977364   2226568.0   3781.612540    503.872070   \n",
       "14        57440.0           0.444568   1538036.0  16395.652205    509.290039   \n",
       "15        65152.0           0.632122   1836512.0   2257.051998    454.310547   \n",
       "16        56320.0           0.790341   1511988.0  14827.370083    519.755859   \n",
       "17        61760.0           0.556995   1500056.0  12345.531074    530.395508   \n",
       "18        48064.0           0.956059   2227636.0   3171.833388    499.024414   \n",
       "19        47584.0           0.987895   2227744.0   3323.388577    498.509766   \n",
       "20        57600.0           0.703889   1478104.0   9560.726059    542.566406   \n",
       "21        48192.0           0.972112   2227220.0   3624.189948    497.926758   \n",
       "\n",
       "    quarter4GradH  quarter4GradV  quarter4RatioGrad  quarter4Sum  \n",
       "0         23968.0         3200.0           7.490000    2052888.0  \n",
       "1         23968.0         3200.0           7.490000    2052888.0  \n",
       "2         23968.0         3200.0           7.490000    2052888.0  \n",
       "3         10528.0         3040.0           3.463158    2055584.0  \n",
       "4         11904.0         3616.0           3.292035    2059312.0  \n",
       "5         11904.0         3616.0           3.292035    2059312.0  \n",
       "6         29760.0         3392.0           8.773585    2061468.0  \n",
       "7         29760.0         3392.0           8.773585    2061468.0  \n",
       "8         10656.0         3264.0           3.264706    2058324.0  \n",
       "9         29568.0        42304.0           0.698941    1816676.0  \n",
       "10        15168.0          608.0          24.947368    1858800.0  \n",
       "11        14880.0          640.0          23.250000    1858444.0  \n",
       "12        34784.0        37344.0           0.931448    2012312.0  \n",
       "13        25024.0         3168.0           7.898990    2063860.0  \n",
       "14        61856.0        35968.0           1.719751    2086052.0  \n",
       "15        15040.0          256.0          58.750000    1860856.0  \n",
       "16        43520.0        26176.0           1.662592    2128920.0  \n",
       "17        61824.0        12160.0           5.084211    2172500.0  \n",
       "18        12064.0         3552.0           3.396396    2044004.0  \n",
       "19        12352.0         3008.0           4.106383    2041896.0  \n",
       "20        57376.0         5920.0           9.691892    2222352.0  \n",
       "21         7616.0         3072.0           2.479167    2039508.0  \n",
       "\n",
       "[22 rows x 45 columns]"
      ]
     },
     "execution_count": 12,
     "metadata": {},
     "output_type": "execute_result"
    }
   ],
   "source": [
    "pd.read_csv('../datasets/QT_SPLIT/s0.csv')"
   ]
  },
  {
   "cell_type": "markdown",
   "metadata": {},
   "source": [
    "#### [Modelos]"
   ]
  },
  {
   "cell_type": "markdown",
   "metadata": {},
   "source": [
    "##### [QT_SPLIT]"
   ]
  },
  {
   "cell_type": "code",
   "execution_count": 13,
   "metadata": {},
   "outputs": [
    {
     "data": {
      "image/png": "[encoded data removed]",
      "text/plain": [
       "<Figure size 1440x576 with 1 Axes>"
      ]
     },
     "metadata": {
      "needs_background": "light"
     },
     "output_type": "display_data"
    }
   ],
   "source": [
    "df = pd.read_csv('../datasets/QT_SPLIT/s0.csv')\n",
    "df.drop(columns = ['videoname', 'splitType'], inplace = True)\n",
    "\n",
    "X = df.drop(columns = ['target'])\n",
    "y = df['target'].astype(int)\n",
    "\n",
    "constant_filter = VarianceThreshold(threshold = 0.01)\n",
    "constant_filter.fit(X)\n",
    "xFilter = constant_filter.transform(X)\n",
    "columnsFilter = X.columns[constant_filter.get_support()]\n",
    "\n",
    "x_T = xFilter.T\n",
    "x_T = pd.DataFrame(x_T)\n",
    "\n",
    "duplicatedFeatures = x_T.duplicated()\n",
    "featuresToKeep = [not index for index in duplicatedFeatures]\n",
    "\n",
    "xUnique = x_T[featuresToKeep].T\n",
    "columnsUnique = columnsFilter[featuresToKeep]\n",
    "\n",
    "xUnique.columns = columnsUnique\n",
    "X = xUnique\n",
    "       \n",
    "forest = RF(random_state = 0, n_estimators = 10)\n",
    "forest.fit(X, y)\n",
    "importances = forest.feature_importances_\n",
    "std = np.std([tree.feature_importances_ for tree in forest.estimators_], axis = 0)\n",
    "forest_importances = pd.Series(importances, index = X.columns)\n",
    "forest_importances.plot.bar(yerr = std, figsize = (20,8));"
   ]
  },
  {
   "cell_type": "code",
   "execution_count": 14,
   "metadata": {},
   "outputs": [
    {
     "data": {
      "text/plain": [
       "0.5900000000000001"
      ]
     },
     "execution_count": 14,
     "metadata": {},
     "output_type": "execute_result"
    }
   ],
   "source": [
    "score = cross_val_score(forest, X, y, cv = 5)\n",
    "score.mean()"
   ]
  },
  {
   "cell_type": "markdown",
   "metadata": {},
   "source": [
    "##### [BI_HORZ || TRI_HORZ]"
   ]
  },
  {
   "cell_type": "code",
   "execution_count": 15,
   "metadata": {},
   "outputs": [
    {
     "data": {
      "image/png": "[encoded data removed]",
      "text/plain": [
       "<Figure size 1440x576 with 1 Axes>"
      ]
     },
     "metadata": {
      "needs_background": "light"
     },
     "output_type": "display_data"
    }
   ],
   "source": [
    "df1 = pd.read_csv('../datasets/BI_HORZ/s0.csv')\n",
    "df2 = pd.read_csv('../datasets/TRI_HORZ/s0.csv')\n",
    "df = pd.concat([df1, df2])\n",
    "df.drop(columns = ['videoname', 'splitType'], inplace = True)\n",
    "\n",
    "X = df.drop(columns = ['target'])\n",
    "y = df['target'].astype(int)\n",
    "\n",
    "constant_filter = VarianceThreshold(threshold = 0.01)\n",
    "constant_filter.fit(X)\n",
    "xFilter = constant_filter.transform(X)\n",
    "columnsFilter = X.columns[constant_filter.get_support()]\n",
    "\n",
    "x_T = xFilter.T\n",
    "x_T = pd.DataFrame(x_T)\n",
    "\n",
    "duplicatedFeatures = x_T.duplicated()\n",
    "featuresToKeep = [not index for index in duplicatedFeatures]\n",
    "\n",
    "xUnique = x_T[featuresToKeep].T\n",
    "columnsUnique = columnsFilter[featuresToKeep]\n",
    "\n",
    "xUnique.columns = columnsUnique\n",
    "X = xUnique\n",
    "       \n",
    "forest = RF(random_state = 0, n_estimators = 10)\n",
    "forest.fit(X, y)\n",
    "importances = forest.feature_importances_\n",
    "std = np.std([tree.feature_importances_ for tree in forest.estimators_], axis = 0)\n",
    "forest_importances = pd.Series(importances, index = X.columns)\n",
    "forest_importances.plot.bar(yerr = std, figsize = (20,8));"
   ]
  },
  {
   "cell_type": "code",
   "execution_count": 16,
   "metadata": {},
   "outputs": [
    {
     "data": {
      "text/plain": [
       "0.7142857142857143"
      ]
     },
     "execution_count": 16,
     "metadata": {},
     "output_type": "execute_result"
    }
   ],
   "source": [
    "score = cross_val_score(forest, X, y, cv = 5)\n",
    "score.mean()"
   ]
  },
  {
   "cell_type": "markdown",
   "metadata": {},
   "source": [
    "##### [BI_VERT || TRI_VERT]"
   ]
  },
  {
   "cell_type": "code",
   "execution_count": 17,
   "metadata": {},
   "outputs": [
    {
     "data": {
      "image/png": "[encoded data removed]",
      "text/plain": [
       "<Figure size 1440x576 with 1 Axes>"
      ]
     },
     "metadata": {
      "needs_background": "light"
     },
     "output_type": "display_data"
    }
   ],
   "source": [
    "df1 = pd.read_csv('../datasets/BI_VERT/s0.csv')\n",
    "df2 = pd.read_csv('../datasets/TRI_VERT/s0.csv')\n",
    "df = pd.concat([df1, df2])\n",
    "df.drop(columns = ['videoname', 'splitType'], inplace = True)\n",
    "\n",
    "X = df.drop(columns = ['target'])\n",
    "y = df['target'].astype(int)\n",
    "\n",
    "constant_filter = VarianceThreshold(threshold = 0.01)\n",
    "constant_filter.fit(X)\n",
    "xFilter = constant_filter.transform(X)\n",
    "columnsFilter = X.columns[constant_filter.get_support()]\n",
    "\n",
    "x_T = xFilter.T\n",
    "x_T = pd.DataFrame(x_T)\n",
    "\n",
    "duplicatedFeatures = x_T.duplicated()\n",
    "featuresToKeep = [not index for index in duplicatedFeatures]\n",
    "\n",
    "xUnique = x_T[featuresToKeep].T\n",
    "columnsUnique = columnsFilter[featuresToKeep]\n",
    "\n",
    "xUnique.columns = columnsUnique\n",
    "X = xUnique\n",
    "       \n",
    "forest = RF(random_state = 0, n_estimators = 10)\n",
    "forest.fit(X, y)\n",
    "importances = forest.feature_importances_\n",
    "std = np.std([tree.feature_importances_ for tree in forest.estimators_], axis = 0)\n",
    "forest_importances = pd.Series(importances, index = X.columns)\n",
    "forest_importances.plot.bar(yerr = std, figsize = (20,8));"
   ]
  },
  {
   "cell_type": "code",
   "execution_count": 18,
   "metadata": {},
   "outputs": [
    {
     "data": {
      "text/plain": [
       "0.7666666666666667"
      ]
     },
     "execution_count": 18,
     "metadata": {},
     "output_type": "execute_result"
    }
   ],
   "source": [
    "score = cross_val_score(forest, X, y, cv = 5)\n",
    "score.mean()"
   ]
  },
  {
   "cell_type": "markdown",
   "metadata": {},
   "source": [
    "### [S1]"
   ]
  },
  {
   "cell_type": "markdown",
   "metadata": {},
   "source": [
    "#### [Dataset]"
   ]
  },
  {
   "cell_type": "code",
   "execution_count": null,
   "metadata": {},
   "outputs": [],
   "source": [
    "pixel_features = pixelFeatures('BasketballPass', Y, width, height, 4)\n",
    "splits = ['QT_SPLIT', 'BI_HORZ', 'BI_VERT', 'TRI_HORZ', 'TRI_VERT']\n",
    "\n",
    "for split in splits:\n",
    "    df1 = pixel_features.extractFeatures(128, 64, split)\n",
    "    df2 = pixel_features.extractFeatures(64, 128, split)\n",
    "    df = pd.concat([df1, df2])\n",
    "    df.to_csv('../datasets/all/s1_' + split + '_PIXEL.csv', index = False)"
   ]
  },
  {
   "cell_type": "code",
   "execution_count": null,
   "metadata": {},
   "outputs": [],
   "source": [
    "splits = ['QT_SPLIT', 'BI_HORZ', 'BI_VERT', 'TRI_HORZ', 'TRI_VERT']\n",
    "\n",
    "for split in splits:\n",
    "    dfVTM = pd.read_csv('../datasets/all/VTM_MaxMin.csv')\n",
    "    dfPixel = pd.read_csv('../datasets/all/s1_' + split + '_PIXEL.csv')\n",
    "    dfVTM = dfVTM[dfVTM['splitType'] == split]\n",
    "    df = pd.merge(dfVTM, dfPixel, on = ['topLeft_x', 'topLeft_y','bottomRight_x','bottomRight_y','POC', 'CU_width', 'CU_height', 'videoname'])\n",
    "    df.to_csv('../datasets/' + split + '/s1.csv', index = False)"
   ]
  },
  {
   "cell_type": "code",
   "execution_count": null,
   "metadata": {},
   "outputs": [],
   "source": [
    "vtm = pd.read_csv('../datasets/all/VTM_pixelCTU.csv')\n",
    "splits = ['QT_SPLIT', 'BI_HORZ', 'BI_VERT', 'TRI_HORZ', 'TRI_VERT']\n",
    "\n",
    "for split in splits:\n",
    "    df1 = vtm.query('CU_width == 128 & CU_height == 64')\n",
    "    df2 = vtm.query('CU_width == 64 & CU_height == 128')\n",
    "    df = pd.concat([df1, df2])\n",
    "    df = df[df['splitType'] == split]\n",
    "    df.to_csv('../datasets/' + split + '/s1.csv', index = False)"
   ]
  },
  {
   "cell_type": "markdown",
   "metadata": {},
   "source": [
    "#### [Modelos]"
   ]
  },
  {
   "cell_type": "markdown",
   "metadata": {},
   "source": [
    "##### [QT_SPLIT]"
   ]
  },
  {
   "cell_type": "code",
   "execution_count": null,
   "metadata": {},
   "outputs": [],
   "source": [
    "df = pd.read_csv('../datasets/QT_SPLIT/s1.csv')\n",
    "df['target'].value_counts()"
   ]
  },
  {
   "cell_type": "markdown",
   "metadata": {},
   "source": [
    "##### [BI_HORZ || TRI_HORZ]"
   ]
  },
  {
   "cell_type": "code",
   "execution_count": null,
   "metadata": {},
   "outputs": [],
   "source": [
    "df1 = pd.read_csv('../datasets/BI_HORZ/s1.csv')\n",
    "df2 = pd.read_csv('../datasets/TRI_HORZ/s1.csv')\n",
    "df = pd.concat([df1, df2])\n",
    "df.drop(columns = ['videoname', 'splitType'], inplace = True)\n",
    "forest = RF(random_state = 0)\n",
    "X = df.drop(columns = ['target'])\n",
    "y = df['target'].astype(int)\n",
    "score = cross_val_score(forest, X, y, cv = 5)\n",
    "score.mean()"
   ]
  },
  {
   "cell_type": "markdown",
   "metadata": {},
   "source": [
    "##### [BI_VERT || TRI_VERT]"
   ]
  },
  {
   "cell_type": "code",
   "execution_count": null,
   "metadata": {},
   "outputs": [],
   "source": [
    "df1 = pd.read_csv('../datasets/BI_VERT/s1.csv')\n",
    "df2 = pd.read_csv('../datasets/TRI_VERT/s1.csv')\n",
    "df = pd.concat([df1, df2])\n",
    "df.drop(columns = ['videoname', 'splitType'], inplace = True)\n",
    "forest = RF(random_state = 0)\n",
    "X = df.drop(columns = ['target'])\n",
    "y = df['target'].astype(int)\n",
    "score = cross_val_score(forest, X, y, cv = 5)\n",
    "score.mean()"
   ]
  },
  {
   "cell_type": "code",
   "execution_count": null,
   "metadata": {},
   "outputs": [],
   "source": [
    "forest = RF(n_estimators = 10, random_state = 0)\n",
    "X = df.drop(columns = ['target'])\n",
    "y = df['target'].astype(int)\n",
    "forest.fit(X,y)"
   ]
  },
  {
   "cell_type": "markdown",
   "metadata": {
    "tags": []
   },
   "source": [
    "### [S2]"
   ]
  },
  {
   "cell_type": "markdown",
   "metadata": {},
   "source": [
    "#### [Dataset]"
   ]
  },
  {
   "cell_type": "code",
   "execution_count": null,
   "metadata": {},
   "outputs": [],
   "source": [
    "pixel_features = pixelFeatures('BasketballPass', Y, width, height, 4)\n",
    "splits = ['QT_SPLIT', 'BI_HORZ', 'BI_VERT', 'TRI_HORZ', 'TRI_VERT']\n",
    "\n",
    "for split in splits:\n",
    "    df1 = pixel_features.extractFeatures(64, 64, split)\n",
    "    df2 = pixel_features.extractFeatures(128, 32, split)\n",
    "    df3 = pixel_features.extractFeatures(32, 128, split)\n",
    "    df = pd.concat([df1, df2, df3])\n",
    "    df.to_csv('../datasets/all/s2_' + split + '_PIXEL.csv', index = False)"
   ]
  },
  {
   "cell_type": "code",
   "execution_count": null,
   "metadata": {},
   "outputs": [],
   "source": [
    "splits = ['QT_SPLIT', 'BI_HORZ', 'BI_VERT', 'TRI_HORZ', 'TRI_VERT']\n",
    "\n",
    "for split in splits:\n",
    "    dfVTM = pd.read_csv('../datasets/all/VTM.csv')\n",
    "    dfPixel = pd.read_csv('../datasets/all/s2_' + split + '_PIXEL.csv')\n",
    "    dfVTM = dfVTM[dfVTM['splitType'] == split]\n",
    "    df = pd.merge(dfVTM, dfPixel, on = ['topLeft_x', 'topLeft_y','bottomRight_x','bottomRight_y','POC', 'CU_width', 'CU_height', 'videoname'])\n",
    "    df.to_csv('../datasets/' + split + '/s2.csv', index = False)"
   ]
  },
  {
   "cell_type": "code",
   "execution_count": null,
   "metadata": {},
   "outputs": [],
   "source": [
    "vtm = pd.read_csv('../datasets/all/VTM_pixelCTU.csv')\n",
    "splits = ['QT_SPLIT', 'BI_HORZ', 'BI_VERT', 'TRI_HORZ', 'TRI_VERT']\n",
    "\n",
    "for split in splits:\n",
    "    df1 = vtm.query('CU_width == 64 & CU_height == 64')\n",
    "    df2 = vtm.query('CU_width == 128 & CU_height == 32')\n",
    "    df3 = vtm.query('CU_width == 32 & CU_height == 128')\n",
    "    df = pd.concat([df1, df2, df3])\n",
    "    df = df[df['splitType'] == split]\n",
    "    df.to_csv('../datasets/' + split + '/s2.csv', index = False)"
   ]
  },
  {
   "cell_type": "markdown",
   "metadata": {},
   "source": [
    "#### [Modelo]"
   ]
  },
  {
   "cell_type": "markdown",
   "metadata": {},
   "source": [
    "##### [QT_SPLIT]"
   ]
  },
  {
   "cell_type": "code",
   "execution_count": null,
   "metadata": {},
   "outputs": [],
   "source": [
    "df = pd.read_csv('../datasets/QT_SPLIT/s2.csv')\n",
    "df.replace(np.inf, -1, inplace = True)\n",
    "df.drop(columns = ['videoname', 'splitType'], inplace = True)\n",
    "forest = RF(random_state = 0)\n",
    "X = df.drop(columns = ['target'])\n",
    "y = df['target'].astype(int)\n",
    "score = cross_val_score(forest, X, y, cv = 5)\n",
    "score.mean()"
   ]
  },
  {
   "cell_type": "markdown",
   "metadata": {},
   "source": [
    "##### [BI_HORZ || TRI_HORZ]"
   ]
  },
  {
   "cell_type": "code",
   "execution_count": null,
   "metadata": {},
   "outputs": [],
   "source": [
    "df1 = pd.read_csv('../datasets/BI_HORZ/s2.csv')\n",
    "df2 = pd.read_csv('../datasets/TRI_HORZ/s2.csv')\n",
    "df = pd.concat([df1, df2])\n",
    "df['target'].value_counts()"
   ]
  },
  {
   "cell_type": "code",
   "execution_count": null,
   "metadata": {},
   "outputs": [],
   "source": [
    "df1 = pd.read_csv('../datasets/BI_VERT/s2.csv')\n",
    "df2 = pd.read_csv('../datasets/TRI_VERT/s2.csv')\n",
    "df = pd.concat([df1, df2])\n",
    "df['target'].value_counts()"
   ]
  },
  {
   "cell_type": "markdown",
   "metadata": {},
   "source": [
    "##### [BI_VERT || TRI_VERT]"
   ]
  },
  {
   "cell_type": "code",
   "execution_count": null,
   "metadata": {},
   "outputs": [],
   "source": [
    "cleaner = datasetCleaner(path1 = 'BI_VERT', path2 = 'TRI_VERT', div = 's2')\n",
    "X, y = cleaner.duplicatedFeatures()\n",
    "xTrain, xTest, yTrain, yTest = train_test_split(X, y, stratify = y, random_state = 0)\n",
    "cleaner.featuresImportance(xTrain, yTrain)"
   ]
  },
  {
   "cell_type": "code",
   "execution_count": null,
   "metadata": {},
   "outputs": [],
   "source": [
    "cleaner = datasetCleaner()\n",
    "X, y = cleaner.duplicatedFeatures(df)\n",
    "X_train, X_test, y_train, y_test = train_test_split(X, y, stratify = y, random_state = 42)\n",
    "\n",
    "forest = RF(random_state=0)\n",
    "forest.fit(X_train, y_train)\n",
    "importances = forest.feature_importances_\n",
    "std = np.std([tree.feature_importances_ for tree in forest.estimators_], axis = 0)\n",
    "forest_importances = pd.Series(importances, index = X.columns)\n",
    "forest_importances.plot.bar(yerr = std, figsize = (30,7));"
   ]
  },
  {
   "cell_type": "code",
   "execution_count": null,
   "metadata": {},
   "outputs": [],
   "source": [
    "forest = RandomForestClassifier(random_state = 0)\n",
    "scores = cross_val_score(forest, X, y, cv = 10, n_jobs = 2)\n",
    "scores.mean()"
   ]
  },
  {
   "cell_type": "code",
   "execution_count": null,
   "metadata": {},
   "outputs": [],
   "source": [
    "X, y = cleaner.duplicatedFeatures(df)\n",
    "X_train, X_test, y_train, y_test = train_test_split(X, y, random_state = 0, test_size = 0.25)\n",
    "forest = RF(random_state = 0)\n",
    "forest.fit(X_train, y_train)\n",
    "preds = forest.predict(X_test)\n",
    "print('F1-Score: {0:.2f}'.format(100*f1_score(y_test, preds)))\n",
    "sns.heatmap(confusion_matrix(y_test, preds, normalize='true'), annot = True, xticklabels=['No Split', 'Split'], yticklabels=['No Split','Split']);"
   ]
  },
  {
   "cell_type": "code",
   "execution_count": null,
   "metadata": {
    "tags": []
   },
   "outputs": [],
   "source": [
    "X, y = cleaner.duplicatedFeatures(df)\n",
    "oversample = SMOTE()\n",
    "X, y = oversample.fit_resample(X, y)\n",
    "X_train, X_test, y_train, y_test = train_test_split(X, y, random_state = 0, test_size = 0.25)\n",
    "forest = RF(random_state = 0)\n",
    "forest.fit(X_train, y_train)\n",
    "preds = forest.predict(X_test)\n",
    "print('F1-Score: {0:.2f}'.format(100*f1_score(y_test, preds)))\n",
    "sns.heatmap(confusion_matrix(y_test, preds, normalize='true'), annot = True, xticklabels=['No Split', 'Split'], yticklabels=['No Split','Split']);"
   ]
  },
  {
   "cell_type": "markdown",
   "metadata": {},
   "source": [
    "### [S3]"
   ]
  },
  {
   "cell_type": "markdown",
   "metadata": {},
   "source": [
    "#### [Dataset]"
   ]
  },
  {
   "cell_type": "code",
   "execution_count": null,
   "metadata": {},
   "outputs": [],
   "source": [
    "pixel_features = pixelFeatures('BasketballPass', Y, width, height, 4)\n",
    "splits = ['QT_SPLIT', 'BI_HORZ', 'BI_VERT', 'TRI_HORZ', 'TRI_VERT']\n",
    "\n",
    "for split in splits:\n",
    "    df1 = pixel_features.extractFeatures(64, 32, split)\n",
    "    df2 = pixel_features.extractFeatures(32, 64, split)\n",
    "    df3 = pixel_features.extractFeatures(128, 16, split)\n",
    "    df4 = pixel_features.extractFeatures(16, 128, split)\n",
    "    df = pd.concat([df1, df2, df3, df4])\n",
    "    df.to_csv('../datasets/all/s3_' + split + '_PIXEL.csv', index = False)"
   ]
  },
  {
   "cell_type": "code",
   "execution_count": null,
   "metadata": {},
   "outputs": [],
   "source": [
    "splits = ['QT_SPLIT', 'BI_HORZ', 'BI_VERT', 'TRI_HORZ', 'TRI_VERT']\n",
    "\n",
    "for split in splits:\n",
    "    dfVTM = pd.read_csv('../datasets/all/VTM.csv')\n",
    "    dfPixel = pd.read_csv('../datasets/all/s3_' + split + '_PIXEL.csv')\n",
    "    dfVTM = dfVTM[dfVTM['splitType'] == split]\n",
    "    df = pd.merge(dfVTM, dfPixel, on = ['topLeft_x', 'topLeft_y','bottomRight_x','bottomRight_y','POC', 'CU_width', 'CU_height', 'videoname'])\n",
    "    df.to_csv('../datasets/' + split + '/s3.csv', index = False)"
   ]
  },
  {
   "cell_type": "code",
   "execution_count": null,
   "metadata": {},
   "outputs": [],
   "source": [
    "vtm = pd.read_csv('../datasets/all/VTM_pixelCTU.csv')\n",
    "splits = ['QT_SPLIT', 'BI_HORZ', 'BI_VERT', 'TRI_HORZ', 'TRI_VERT']\n",
    "\n",
    "for split in splits:\n",
    "    df1 = vtm.query('CU_width == 64 & CU_height == 32')\n",
    "    df2 = vtm.query('CU_width == 32 & CU_height == 64')\n",
    "    df3 = vtm.query('CU_width == 128 & CU_height == 16')\n",
    "    df4 = vtm.query('CU_width == 16 & CU_height == 128')\n",
    "    df = pd.concat([df1, df2, df3, df4])\n",
    "    df = df[df['splitType'] == split]\n",
    "    df.to_csv('../datasets/' + split + '/s3.csv', index = False)"
   ]
  },
  {
   "cell_type": "markdown",
   "metadata": {},
   "source": [
    "#### [Modelo]"
   ]
  },
  {
   "cell_type": "markdown",
   "metadata": {},
   "source": [
    "##### [QT_SPLIT]"
   ]
  },
  {
   "cell_type": "code",
   "execution_count": null,
   "metadata": {},
   "outputs": [],
   "source": [
    "df = pd.read_csv('../datasets/QT_SPLIT/s3.csv')\n",
    "df['target'].value_counts()"
   ]
  },
  {
   "cell_type": "markdown",
   "metadata": {},
   "source": [
    "##### [BI_HORZ || TRI_HORZ]"
   ]
  },
  {
   "cell_type": "code",
   "execution_count": null,
   "metadata": {},
   "outputs": [],
   "source": [
    "df1 = pd.read_csv('../datasets/BI_HORZ/s3.csv')\n",
    "df2 = pd.read_csv('../datasets/TRI_HORZ/s3.csv')\n",
    "df = pd.concat([df1, df2])\n",
    "df['target'].value_counts()"
   ]
  },
  {
   "cell_type": "markdown",
   "metadata": {},
   "source": [
    "##### [BI_VERT || TRI_VERT]"
   ]
  },
  {
   "cell_type": "code",
   "execution_count": null,
   "metadata": {},
   "outputs": [],
   "source": [
    "df1 = pd.read_csv('../datasets/BI_VERT/s3.csv')\n",
    "df2 = pd.read_csv('../datasets/TRI_VERT/s3.csv')\n",
    "df = pd.concat([df1, df2])\n",
    "df['target'].value_counts()"
   ]
  },
  {
   "cell_type": "code",
   "execution_count": null,
   "metadata": {},
   "outputs": [],
   "source": [
    "cleaner = datasetCleaner()\n",
    "X, y = cleaner.duplicatedFeatures(df)\n",
    "X_train, X_test, y_train, y_test = train_test_split(X, y, stratify = y, random_state = 42)\n",
    "\n",
    "forest = RF(random_state=0)\n",
    "forest.fit(X_train, y_train)\n",
    "importances = forest.feature_importances_\n",
    "std = np.std([tree.feature_importances_ for tree in forest.estimators_], axis = 0)\n",
    "forest_importances = pd.Series(importances, index = X.columns)\n",
    "forest_importances.plot.bar(yerr = std, figsize = (30,7));"
   ]
  },
  {
   "cell_type": "code",
   "execution_count": null,
   "metadata": {},
   "outputs": [],
   "source": [
    "X, y = cleaner.duplicatedFeatures(df)\n",
    "X_train, X_test, y_train, y_test = train_test_split(X, y, random_state = 0, test_size = 0.25)\n",
    "forest = RF(random_state = 0)\n",
    "forest.fit(X_train, y_train)\n",
    "preds = forest.predict(X_test)\n",
    "print('F1-Score: {0:.2f}'.format(100*f1_score(y_test, preds)))\n",
    "sns.heatmap(confusion_matrix(y_test, preds, normalize='true'), annot = True, xticklabels=['No Split', 'Split'], yticklabels=['No Split','Split']);"
   ]
  },
  {
   "cell_type": "code",
   "execution_count": null,
   "metadata": {
    "tags": []
   },
   "outputs": [],
   "source": [
    "forest = RF(random_state = 0)\n",
    "scores = cross_val_score(forest, X, y, cv = 5)\n",
    "scores.mean()"
   ]
  },
  {
   "cell_type": "markdown",
   "metadata": {},
   "source": [
    "### [S4]"
   ]
  },
  {
   "cell_type": "markdown",
   "metadata": {},
   "source": [
    "#### [Dataset]"
   ]
  },
  {
   "cell_type": "code",
   "execution_count": null,
   "metadata": {},
   "outputs": [],
   "source": [
    "pixel_features = pixelFeatures('BasketballPass', Y, width, height, 4)\n",
    "splits = ['QT_SPLIT', 'BI_HORZ', 'BI_VERT', 'TRI_HORZ', 'TRI_VERT']\n",
    "\n",
    "for split in splits:\n",
    "    df1 = pixel_features.extractFeatures(32, 32, split)\n",
    "    df2 = pixel_features.extractFeatures(64, 16, split)\n",
    "    df3 = pixel_features.extractFeatures(16, 64, split)\n",
    "    df4 = pixel_features.extractFeatures(128, 8, split)\n",
    "    df5 = pixel_features.extractFeatures(8, 128, split)\n",
    "    df = pd.concat([df1, df2, df3, df4, df5])\n",
    "    df.to_csv('../datasets/all/s4_' + split + '_PIXEL.csv', index = False)"
   ]
  },
  {
   "cell_type": "code",
   "execution_count": null,
   "metadata": {},
   "outputs": [],
   "source": [
    "splits = ['QT_SPLIT', 'BI_HORZ', 'BI_VERT', 'TRI_HORZ', 'TRI_VERT']\n",
    "\n",
    "for split in splits:\n",
    "    dfVTM = pd.read_csv('../datasets/all/VTM.csv')\n",
    "    dfPixel = pd.read_csv('../datasets/all/s4_' + split + '_PIXEL.csv')\n",
    "    dfVTM = dfVTM[dfVTM['splitType'] == split]\n",
    "    df = pd.merge(dfVTM, dfPixel, on = ['topLeft_x', 'topLeft_y','bottomRight_x','bottomRight_y','POC', 'CU_width', 'CU_height', 'videoname'])\n",
    "    df.to_csv('../datasets/' + split + '/s4.csv', index = False)"
   ]
  },
  {
   "cell_type": "code",
   "execution_count": null,
   "metadata": {},
   "outputs": [],
   "source": [
    "vtm = pd.read_csv('../datasets/all/VTM_pixelCTU.csv')\n",
    "splits = ['QT_SPLIT', 'BI_HORZ', 'BI_VERT', 'TRI_HORZ', 'TRI_VERT']\n",
    "\n",
    "for split in splits:\n",
    "    df1 = vtm.query('CU_width == 32 & CU_height == 32')\n",
    "    df2 = vtm.query('CU_width == 64 & CU_height == 16')\n",
    "    df3 = vtm.query('CU_width == 16 & CU_height == 64')\n",
    "    df4 = vtm.query('CU_width == 128 & CU_height == 8')\n",
    "    df5 = vtm.query('CU_width == 8 & CU_height == 128')\n",
    "    df = pd.concat([df1, df2, df3, df4, df5])\n",
    "    df = df[df['splitType'] == split]\n",
    "    df.to_csv('../datasets/' + split + '/s4.csv', index = False)"
   ]
  },
  {
   "cell_type": "markdown",
   "metadata": {},
   "source": [
    "#### [Modelo]"
   ]
  },
  {
   "cell_type": "markdown",
   "metadata": {},
   "source": [
    "##### [QT_SPLIT]"
   ]
  },
  {
   "cell_type": "code",
   "execution_count": null,
   "metadata": {},
   "outputs": [],
   "source": [
    "df = pd.read_csv('../datasets/QT_SPLIT/s4.csv')\n",
    "df['target'].value_counts()"
   ]
  },
  {
   "cell_type": "markdown",
   "metadata": {},
   "source": [
    "##### [BI_HORZ || TRI_HORZ]"
   ]
  },
  {
   "cell_type": "code",
   "execution_count": null,
   "metadata": {},
   "outputs": [],
   "source": [
    "df1 = pd.read_csv('../datasets/BI_HORZ/s4.csv')\n",
    "df2 = pd.read_csv('../datasets/TRI_HORZ/s4.csv')\n",
    "df = pd.concat([df1, df2])\n",
    "df['target'].value_counts()"
   ]
  },
  {
   "cell_type": "markdown",
   "metadata": {},
   "source": [
    "##### [BI_VERT || TRI_VERT]"
   ]
  },
  {
   "cell_type": "code",
   "execution_count": null,
   "metadata": {},
   "outputs": [],
   "source": [
    "df1 = pd.read_csv('../datasets/BI_VERT/s4.csv')\n",
    "df2 = pd.read_csv('../datasets/TRI_VERT/s4.csv')\n",
    "df = pd.concat([df1, df2])\n",
    "df['target'].value_counts()"
   ]
  },
  {
   "cell_type": "markdown",
   "metadata": {},
   "source": [
    "### [S5]"
   ]
  },
  {
   "cell_type": "markdown",
   "metadata": {},
   "source": [
    "#### [Dataset]"
   ]
  },
  {
   "cell_type": "code",
   "execution_count": null,
   "metadata": {},
   "outputs": [],
   "source": [
    "pixel_features = pixelFeatures('BasketballPass', Y, width, height, 4)\n",
    "splits = ['QT_SPLIT', 'BI_HORZ', 'BI_VERT', 'TRI_HORZ', 'TRI_VERT']\n",
    "\n",
    "for split in splits:\n",
    "    df1 = pixel_features.extractFeatures(32, 16, split)\n",
    "    df2 = pixel_features.extractFeatures(16, 32, split)\n",
    "    df3 = pixel_features.extractFeatures(64, 8, split)\n",
    "    df4 = pixel_features.extractFeatures(8, 64, split)\n",
    "    df = pd.concat([df1, df2, df3, df4])\n",
    "    \n",
    "    df.to_csv('../datasets/all/s5_' + split + '_PIXEL.csv', index = False)"
   ]
  },
  {
   "cell_type": "code",
   "execution_count": null,
   "metadata": {},
   "outputs": [],
   "source": [
    "splits = ['QT_SPLIT', 'BI_HORZ', 'BI_VERT', 'TRI_HORZ', 'TRI_VERT']\n",
    "\n",
    "for split in splits:\n",
    "    dfVTM = pd.read_csv('../datasets/all/VTM.csv')\n",
    "    dfPixel = pd.read_csv('../datasets/all/s5_' + split + '_PIXEL.csv')\n",
    "    dfVTM = dfVTM[dfVTM['splitType'] == split]\n",
    "    df = pd.merge(dfVTM, dfPixel, on = ['topLeft_x', 'topLeft_y','bottomRight_x','bottomRight_y','POC', 'CU_width', 'CU_height', 'videoname'])\n",
    "    df.to_csv('../datasets/' + split + '/s5.csv', index = False)"
   ]
  },
  {
   "cell_type": "code",
   "execution_count": null,
   "metadata": {},
   "outputs": [],
   "source": [
    "vtm = pd.read_csv('../datasets/all/VTM_pixelCTU.csv')\n",
    "splits = ['QT_SPLIT', 'BI_HORZ', 'BI_VERT', 'TRI_HORZ', 'TRI_VERT']\n",
    "\n",
    "for split in splits:\n",
    "    df1 = vtm.query('CU_width == 32 & CU_height == 16')\n",
    "    df2 = vtm.query('CU_width == 16 & CU_height == 32')\n",
    "    df3 = vtm.query('CU_width == 64 & CU_height == 8')\n",
    "    df4 = vtm.query('CU_width == 8 & CU_height == 64')\n",
    "    df = pd.concat([df1, df2, df3, df4])\n",
    "    df = df[df['splitType'] == split]\n",
    "    df.to_csv('../datasets/' + split + '/s5.csv', index = False)"
   ]
  },
  {
   "cell_type": "markdown",
   "metadata": {},
   "source": [
    "#### [Modelo]"
   ]
  },
  {
   "cell_type": "markdown",
   "metadata": {},
   "source": [
    "##### [QT_SPLIT]"
   ]
  },
  {
   "cell_type": "code",
   "execution_count": null,
   "metadata": {},
   "outputs": [],
   "source": [
    "df = pd.read_csv('../datasets/QT_SPLIT/s5.csv')\n",
    "df['target'].value_counts()"
   ]
  },
  {
   "cell_type": "markdown",
   "metadata": {},
   "source": [
    "##### [BI_HORZ || TRI_HORZ]"
   ]
  },
  {
   "cell_type": "code",
   "execution_count": null,
   "metadata": {},
   "outputs": [],
   "source": [
    "df1 = pd.read_csv('../datasets/BI_HORZ/s5.csv')\n",
    "df2 = pd.read_csv('../datasets/TRI_HORZ/s5.csv')\n",
    "df = pd.concat([df1, df2])\n",
    "df['target'].value_counts()"
   ]
  },
  {
   "cell_type": "markdown",
   "metadata": {},
   "source": [
    "##### [BI_VERT || TRI_VERT]"
   ]
  },
  {
   "cell_type": "code",
   "execution_count": null,
   "metadata": {},
   "outputs": [],
   "source": [
    "df1 = pd.read_csv('../datasets/BI_VERT/s5.csv')\n",
    "df2 = pd.read_csv('../datasets/TRI_VERT/s5.csv')\n",
    "df = pd.concat([df1, df2])\n",
    "df['target'].value_counts()"
   ]
  },
  {
   "cell_type": "markdown",
   "metadata": {},
   "source": [
    "### [S6]"
   ]
  },
  {
   "cell_type": "markdown",
   "metadata": {},
   "source": [
    "#### [Dataset]"
   ]
  },
  {
   "cell_type": "code",
   "execution_count": null,
   "metadata": {},
   "outputs": [],
   "source": [
    "pixel_features = pixelFeatures('BasketballPass', Y, width, height, 4)\n",
    "splits = ['QT_SPLIT', 'BI_HORZ', 'BI_VERT', 'TRI_HORZ', 'TRI_VERT']\n",
    "\n",
    "for split in splits:\n",
    "    df1 = pixel_features.extractFeatures(16, 16, split)\n",
    "    df2 = pixel_features.extractFeatures(32, 8, split)\n",
    "    df3 = pixel_features.extractFeatures(8, 32, split)\n",
    "    df = pd.concat([df1, df2, df3])\n",
    "    df.to_csv('../datasets/all/s6_' + split + '_PIXEL.csv', index = False)"
   ]
  },
  {
   "cell_type": "code",
   "execution_count": null,
   "metadata": {},
   "outputs": [],
   "source": [
    "splits = ['QT_SPLIT', 'BI_HORZ', 'BI_VERT', 'TRI_HORZ', 'TRI_VERT']\n",
    "\n",
    "for split in splits:\n",
    "    dfVTM = pd.read_csv('../datasets/all/VTM.csv')\n",
    "    dfPixel = pd.read_csv('../datasets/all/s6_' + split + '_PIXEL.csv')\n",
    "    dfVTM = dfVTM[dfVTM['splitType'] == split]\n",
    "    df = pd.merge(dfVTM, dfPixel, on = ['topLeft_x', 'topLeft_y','bottomRight_x','bottomRight_y','POC', 'CU_width', 'CU_height', 'videoname'])\n",
    "    df.to_csv('../datasets/' + split + '/s6.csv', index = False)"
   ]
  },
  {
   "cell_type": "code",
   "execution_count": null,
   "metadata": {},
   "outputs": [],
   "source": [
    "vtm = pd.read_csv('../datasets/all/VTM_pixelCTU.csv')\n",
    "splits = ['QT_SPLIT', 'BI_HORZ', 'BI_VERT', 'TRI_HORZ', 'TRI_VERT']\n",
    "\n",
    "for split in splits:\n",
    "    df1 = vtm.query('CU_width == 16 & CU_height == 16')\n",
    "    df2 = vtm.query('CU_width == 32 & CU_height == 8')\n",
    "    df3 = vtm.query('CU_width == 8 & CU_height == 32')\n",
    "    df = pd.concat([df1, df2, df3])\n",
    "    df = df[df['splitType'] == split]\n",
    "    df.to_csv('../datasets/' + split + '/s6.csv', index = False)"
   ]
  },
  {
   "cell_type": "markdown",
   "metadata": {},
   "source": [
    "#### [Modelo]"
   ]
  },
  {
   "cell_type": "markdown",
   "metadata": {},
   "source": [
    "##### [QT_SPLIT]"
   ]
  },
  {
   "cell_type": "code",
   "execution_count": null,
   "metadata": {},
   "outputs": [],
   "source": [
    "df = pd.read_csv('../datasets/QT_SPLIT/s6.csv')\n",
    "df['target'].value_counts()"
   ]
  },
  {
   "cell_type": "markdown",
   "metadata": {},
   "source": [
    "##### [BI_HORZ || TRI_HORZ]"
   ]
  },
  {
   "cell_type": "code",
   "execution_count": null,
   "metadata": {},
   "outputs": [],
   "source": [
    "df1 = pd.read_csv('../datasets/BI_HORZ/s6.csv')\n",
    "df2 = pd.read_csv('../datasets/TRI_HORZ/s6.csv')\n",
    "df = pd.concat([df1, df2])\n",
    "df['target'].value_counts()"
   ]
  },
  {
   "cell_type": "markdown",
   "metadata": {},
   "source": [
    "##### [BI_VERT || TRI_VERT]"
   ]
  },
  {
   "cell_type": "code",
   "execution_count": null,
   "metadata": {},
   "outputs": [],
   "source": [
    "df1 = pd.read_csv('../datasets/BI_VERT/s6.csv')\n",
    "df2 = pd.read_csv('../datasets/TRI_VERT/s6.csv')\n",
    "df = pd.concat([df1, df2])\n",
    "df['target'].value_counts()"
   ]
  },
  {
   "cell_type": "markdown",
   "metadata": {},
   "source": [
    "### [Dataset - ExtractionClass]"
   ]
  },
  {
   "cell_type": "code",
   "execution_count": null,
   "metadata": {},
   "outputs": [],
   "source": [
    "class Extract_Features:\n",
    "    def __init__(self, height, width, frame):\n",
    "        self.height = height\n",
    "        self.width = width\n",
    "        self.Y = frame\n",
    "        self.block_size_height = 0\n",
    "        self.block_size_width = 0\n",
    "        self.frame_padding = 0\n",
    "        \n",
    "    def setBlock(self, block_size):\n",
    "        \n",
    "        self.block_size_height = int(block_size.split('x')[0])\n",
    "        self.block_size_width = int(block_size.split('x')[1])\n",
    "        self.frame_padding = np.pad(self.Y, ( (0,(height % self.block_size_height)), \n",
    "                                             (0,(width % self.block_size_width)) ), 'edge')            \n",
    "    \n",
    "    def setDataFrame(self, array, columns):\n",
    "        \n",
    "        df = pd.DataFrame(columns = columns)\n",
    "        for i in range(len(columns)):\n",
    "            df[columns[i]] = array[:,i]\n",
    "        \n",
    "        return df\n",
    "    \n",
    "    def getVariance(self, block_size):\n",
    "        self.setBlock(block_size)\n",
    "        varPix = np.array([[None]*5])\n",
    "\n",
    "        for h in range(0, self.height, self.block_size_height):\n",
    "            for w in range(0, self.width, self.block_size_width):\n",
    "                line = np.append([w, h, w+(self.block_size_width-1), h+(self.block_size_height-1)], \n",
    "                                np.var(self.frame_padding[h:h+(self.block_size_height-1), \n",
    "                                                             w:w+(self.block_size_width-1)]))\n",
    "                varPix = np.vstack((varPix, line))\n",
    "        \n",
    "        return self.setDataFrame(varPix[1:,], ['topLeft_x', 'topLeft_y', 'bottomRight_x', 'bottomRight_y', 'VarPix'])\n",
    "    \n",
    "    def getGradients(self, block_size):\n",
    "        self.setBlock(block_size)\n",
    "              \n",
    "        grad = np.array([[None]*7])\n",
    "        \n",
    "        for h in range(0, self.height, self.block_size_height):\n",
    "            for w in range(0, self.width, self.block_size_width):\n",
    "                Gx, Gy = np.gradient(self.frame_padding[h:h+(self.block_size_height-1), \n",
    "                                                             w:w+(self.block_size_width-1)])\n",
    "                line = [w, h, w+(self.block_size_width-1), h+(self.block_size_height-1), Gx.sum(), Gy.sum(), (Gx.sum()/Gy.sum())]\n",
    "                grad = np.vstack((grad, line))\n",
    "        return self.setDataFrame(grad[1:,], ['topLeft_x', 'topLeft_y', 'bottomRight_x', 'bottomRight_y', 'Grad_x', 'Grad_y', 'RatioGrad'])\n",
    "    \n",
    "    \n",
    "    def getQuarterPos(self, h, w, df_quarter, df_block):\n",
    "        quarter = df_quarter[ df_quarter['topLeft_x'] >= w ]\n",
    "        quarter = quarter[ quarter['topLeft_y'] >= h ]\n",
    "        quarter = quarter[ quarter['bottomRight_x'] <= w + (self.block_size_width - 1) ]\n",
    "        quarter = quarter[ quarter['bottomRight_y'] <= h + (self.block_size_height - 1)]\n",
    "        \n",
    "        quarter.reset_index(inplace = True, drop = True)\n",
    "\n",
    "        feature = df_block[ df_block['topLeft_x'] == w ]\n",
    "        feature = feature[ feature['topLeft_y'] == h ]\n",
    "        feature = feature[ feature['bottomRight_x'] == w + (self.block_size_width  - 1) ]\n",
    "        feature = feature[ feature['bottomRight_y'] == h + (self.block_size_height - 1) ]\n",
    "        \n",
    "        feature.reset_index(inplace = True, drop = True)\n",
    "        \n",
    "        return quarter, feature\n",
    "                \n",
    "    def getQuarterVariance(self, block_size, quarter_block_size, varPix, grads, mean):\n",
    "        v = pd.DataFrame()\n",
    "        g = pd.DataFrame()\n",
    "        m = pd.DataFrame()\n",
    "        quarterVar = dataset.getVariance(quarter_block_size)\n",
    "        quarterGrad = dataset.getGradients(quarter_block_size)\n",
    "        quarterMean = dataset.getMean(quarter_block_size)\n",
    "        \n",
    "        self.setBlock(block_size)\n",
    "        pos = ['topLeft', 'topRight', 'bottomLeft', 'bottomRight']\n",
    "        \n",
    "        for h in range(0, self.height, self.block_size_height):\n",
    "            for w in range(0, self.width, self.block_size_width):\n",
    "                \n",
    "                quarterVar_aux, varPix_aux = self.getQuarterPos(h, w, quarterVar, varPix)\n",
    "                quarterGrad_aux, grad_aux = self.getQuarterPos(h, w, quarterGrad, grads)\n",
    "                quarterMean_aux, mean_aux = self.getQuarterPos(h, w, quarterMean, mean)\n",
    "                \n",
    "                for i in range(1,len(pos)+1):\n",
    "                    if quarterVar_aux.shape[0] >= i:\n",
    "                        varPix_aux['QuarterVarPix_' + pos[i-1]] = quarterVar_aux['VarPix'][i-1]\n",
    "                        grad_aux['QuarterGrad_x_' + pos[i-1]] = quarterGrad_aux['Grad_x'][i-1]\n",
    "                        grad_aux['QuarterGrad_y_' + pos[i-1]] = quarterGrad_aux['Grad_y'][i-1]\n",
    "                        grad_aux['QuarterRatioGrad_' + pos[i-1]] = quarterGrad_aux['RatioGrad'][i-1]\n",
    "                        mean_aux['QuarterMean_' + pos[i-1]] = quarterMean_aux['Mean'][i-1]\n",
    "                 \n",
    "                v = pd.concat([v, varPix_aux], sort=False)\n",
    "                g = pd.concat([g, grad_aux], sort=False)\n",
    "                m = pd.concat([m, mean_aux], sort=False)\n",
    "                d = pd.merge(v,g)\n",
    "        return pd.merge(d,m)\n",
    "    \n",
    "    def getInconsistency(self, df, feature):\n",
    "        max_lines = df.shape[0]\n",
    "        HI = np.array([[None]*1])\n",
    "        VI = np.array([[None]*1])\n",
    "        \n",
    "        for i in range(max_lines):\n",
    "            f1 = df.loc[i,'Quarter' + feature + '_topLeft']\n",
    "            f2 = df.loc[i, 'Quarter' + feature + '_topRight']\n",
    "            f3 = df.loc[i, 'Quarter' + feature + '_bottomLeft']\n",
    "            f4 = df.loc[i, 'Quarter' + feature + '_bottomRight']\n",
    "            \n",
    "            if f3 != None or f4 != None:\n",
    "\n",
    "                h = abs(f1 - f2) + abs(f3 - f4)\n",
    "                v = abs(f1 - f3) + abs(f2 - f4)\n",
    "\n",
    "                HI = np.vstack((HI, h))\n",
    "                VI = np.vstack((VI, v))\n",
    "            else:\n",
    "                HI = np.vstack((HI, None))\n",
    "                VI = np.vstack((VI, None))\n",
    "        return HI,VI\n",
    "    \n",
    "    def getMean(self, block_size):\n",
    "        self.setBlock(block_size)\n",
    "        mean = np.array([[None]*5])\n",
    "\n",
    "        for h in range(0, self.height, self.block_size_height):\n",
    "            for w in range(0, self.width, self.block_size_width):\n",
    "                line = np.append([w, h, w+(self.block_size_width-1), h+(self.block_size_height-1)], \n",
    "                                np.mean(self.frame_padding[h:h+(self.block_size_height-1), \n",
    "                                                             w:w+(self.block_size_width-1)]))\n",
    "                mean = np.vstack((mean, line))\n",
    "        \n",
    "        return self.setDataFrame(mean[1:,], ['topLeft_x', 'topLeft_y', 'bottomRight_x', 'bottomRight_y', 'Mean'])"
   ]
  },
  {
   "cell_type": "markdown",
   "metadata": {},
   "source": [
    "### [Dataset Image]"
   ]
  },
  {
   "cell_type": "code",
   "execution_count": null,
   "metadata": {},
   "outputs": [],
   "source": [
    "df_image = pd.DataFrame()\n",
    "\n",
    "for i in range(1,16):\n",
    "\n",
    "    dataset = Extract_Features(height, width, Y[i])\n",
    "    varPix = dataset.getVariance('128x128')\n",
    "    grads = dataset.getGradients('128x128')\n",
    "    mean = dataset.getMean('128x128')\n",
    "    v = dataset.getQuarterVariance('128x128', '64x64', varPix, grads, mean)\n",
    "    \n",
    "    df = pd.merge(varPix, grads)\n",
    "    df = pd.merge(df, v)\n",
    "    \n",
    "    HI, VI = dataset.getInconsistency(df, 'VarPix')\n",
    "    df = pd.concat([df, pd.DataFrame(HI[1:,], columns=['HI_VarPix'])], axis = 1)\n",
    "    df = pd.concat([df, pd.DataFrame(VI[1:,], columns=['VI_VarPix'])], axis = 1)\n",
    "\n",
    "    HI, VI = dataset.getInconsistency(df, 'RatioGrad')\n",
    "    df = pd.concat([df, pd.DataFrame(HI[1:,], columns=['HI_RatioGrad'])], axis = 1)\n",
    "    df = pd.concat([df, pd.DataFrame(VI[1:,], columns=['VI_RatioGrad'])], axis = 1)\n",
    "    \n",
    "    HI, VI = dataset.getInconsistency(df, 'Mean')\n",
    "    df = pd.concat([df, pd.DataFrame(HI[1:,], columns=['HI_Mean'])], axis = 1)\n",
    "    df = pd.concat([df, pd.DataFrame(VI[1:,], columns=['VI_Mean'])], axis = 1)\n",
    "    \n",
    "    df['DiffInconsPix'] = df['HI_VarPix'] - df['VI_VarPix']\n",
    "    df['DiffInconsRatioGrad'] = df['HI_RatioGrad'] - df['VI_RatioGrad']\n",
    "    df['DiffInconsMean'] = df['HI_Mean'] - df['VI_Mean']\n",
    "    df['GOP'] = i\n",
    "    \n",
    "    df_image = pd.concat([df_image, df], sort=False)\n",
    "    \n",
    "df_image.dropna(inplace = True)\n",
    "df_image.shape\n"
   ]
  },
  {
   "cell_type": "markdown",
   "metadata": {
    "tags": []
   },
   "source": [
    "### [Features Selection]"
   ]
  },
  {
   "cell_type": "code",
   "execution_count": null,
   "metadata": {},
   "outputs": [],
   "source": [
    "def MI(df, plot=True):\n",
    "    x = df.drop(columns= 'splitColumn', axis = 1)\n",
    "    constant_filter = VarianceThreshold(threshold=0.01)\n",
    "    constant_filter.fit(x)\n",
    "    xFilter = constant_filter.transform(x)\n",
    "    columnsFilter = x.columns[constant_filter.get_support()]\n",
    "\n",
    "    x_T = xFilter.T\n",
    "    x_T = pd.DataFrame(x_T)\n",
    "    \n",
    "    duplicatedFeatures = x_T.duplicated()\n",
    "    featuresToKeep = [not index for index in duplicatedFeatures]\n",
    "\n",
    "    xUnique = x_T[featuresToKeep].T\n",
    "    columnsUnique = columnsFilter[featuresToKeep]\n",
    "\n",
    "    xUnique.columns = columnsUnique\n",
    "    \n",
    "    X = xUnique\n",
    "    Y = df['splitColumn']\n",
    "    \n",
    "    if plot:\n",
    "\n",
    "        mi = mutual_info_classif(X, Y)\n",
    "        mi = pd.Series(mi)\n",
    "        mi.index = X.columns\n",
    "        mi.sort_values(ascending = False, inplace = True)\n",
    "        plt.ylabel('Mutal Information (MI)')\n",
    "        plt.title('Model 128x128 QP 22')\n",
    "        mi.plot.bar(figsize = (16,5), color='red', grid=True)\n",
    "\n",
    "    return X, Y\n",
    "\n",
    "X, Y = MI(df_all[df_all['QP'] == 22])"
   ]
  },
  {
   "cell_type": "markdown",
   "metadata": {},
   "source": [
    "### [Training]"
   ]
  },
  {
   "cell_type": "code",
   "execution_count": null,
   "metadata": {},
   "outputs": [],
   "source": [
    "def simpleTraining(X, Y, imblearn, ax, title):\n",
    "    \n",
    "    if imblearn:\n",
    "        undersample = RandomUnderSampler(sampling_strategy='all', random_state = 0)\n",
    "        X, Y = undersample.fit_resample(X, Y)\n",
    "    \n",
    "    X_train, X_test, y_train, y_test = train_test_split(X, Y, random_state=0, test_size = 0.25)\n",
    "    clf = RF(random_state=0)\n",
    "    clf.fit(X_train, y_train)\n",
    "    predicts = clf.predict(X_test)\n",
    "    cm = sns.heatmap(confusion_matrix(y_test, predicts, normalize='true'), annot = True, xticklabels=['No Split', 'Split'], yticklabels=['No Split','Split'], ax = ax)\n",
    "    \n",
    "    if ax == None:\n",
    "        plt.title('Confusion Matrix - Model 128x128 ' + title)\n",
    "    else:\n",
    "        ax.set_title('Confusion Matrix - Model 128x128 ' + title)\n",
    "\n",
    "    \n",
    "    return f1_score(y_test, predicts)"
   ]
  }
 ],
 "metadata": {
  "kernelspec": {
   "display_name": "Python 3",
   "language": "python",
   "name": "python3"
  },
  "language_info": {
   "codemirror_mode": {
    "name": "ipython",
    "version": 3
   },
   "file_extension": ".py",
   "mimetype": "text/x-python",
   "name": "python",
   "nbconvert_exporter": "python",
   "pygments_lexer": "ipython3",
   "version": "3.7.6"
  }
 },
 "nbformat": 4,
 "nbformat_minor": 4
}
