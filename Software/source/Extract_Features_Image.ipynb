{
 "cells": [
  {
   "cell_type": "markdown",
   "metadata": {
    "tags": []
   },
   "source": [
    "### [Bibliotecas]"
   ]
  },
  {
   "cell_type": "code",
   "execution_count": 1,
   "metadata": {},
   "outputs": [],
   "source": [
    "import numpy as np\n",
    "import matplotlib.pyplot as plt\n",
    "import pandas as pd\n",
    "import seaborn as sns\n",
    "import scipy\n",
    "import plotly.express as px\n",
    "\n",
    "from datasetCleaner import *\n",
    "from YUVHandler import *\n",
    "from pixelFeatures import *\n",
    "from sklearn.feature_selection import mutual_info_classif, VarianceThreshold\n",
    "from sklearn.ensemble import RandomForestClassifier as RF\n",
    "from sklearn.model_selection import cross_val_predict, train_test_split, cross_val_score\n",
    "from sklearn.metrics import confusion_matrix, f1_score\n",
    "from imblearn.under_sampling import RandomUnderSampler\n",
    "from imblearn.over_sampling import SMOTE"
   ]
  },
  {
   "cell_type": "markdown",
   "metadata": {},
   "source": [
    "### [Leitura de YUV]"
   ]
  },
  {
   "cell_type": "code",
   "execution_count": null,
   "metadata": {},
   "outputs": [],
   "source": [
    "video_file = '/home/lindino/Documentos/(YUV) Videos/BasketballPass_416x240_50.yuv'\n",
    "width = 416\n",
    "height = 240\n",
    "\n",
    "# Aquisição das matrizes Y, U e V\n",
    "yuv_handle = YUVHandler(video_file, width, height)\n",
    "Y, U, V = yuv_handle.get_frame_arrays()\n",
    "yuv_handle.plot_frame(Y[0], U[0], V[0])\n",
    "\n",
    "# Converter para 16 bits\n",
    "Y = np.uint16(Y)\n",
    "Y = Y*4\n",
    "imageInput = np.pad(Y[0], (0,128), mode='edge')"
   ]
  },
  {
   "cell_type": "code",
   "execution_count": null,
   "metadata": {},
   "outputs": [],
   "source": [
    "qps = ['22', '27', '32', '37']\n",
    "dfAll = pd.DataFrame()\n",
    "\n",
    "for qp in qps:\n",
    "    df_features = pd.read_csv('../../VTM-9.0/features/dataset_BasketballPass_' + qp + '_features.csv', usecols = ['videoname','paramQP','frameWidth','frameHeight','CU_width','CU_height','topLeft_x','topLeft_y','bottomRight_x','bottomRight_y','POC','qtdepth','mtdepth','splitType', 'cost'])\n",
    "    df_target = pd.read_csv('../../VTM-9.0/target/dataset_BasketballPass_' + qp + '_target.csv')\n",
    "\n",
    "    splits = ['QT_SPLIT', 'BI_HORZ', 'BI_VERT', 'TRI_HORZ', 'TRI_VERT']\n",
    "\n",
    "    for i in range(0, len(splits)):\n",
    "        df_features['splitType'] = df_features['splitType'].replace(i+1, splits[i])\n",
    "        df_target['splitType'] = df_target['splitType'].replace(i+1, splits[i])\n",
    "\n",
    "    df = pd.merge(df_features, df_target, on=['videoname','paramQP','frameWidth','frameHeight','CU_width','CU_height','topLeft_x','topLeft_y','bottomRight_x','bottomRight_y','POC','qtdepth','mtdepth','splitType'])\n",
    "    df.drop_duplicates(inplace = True)\n",
    "    df = df.groupby(by=['videoname','paramQP','frameWidth','frameHeight','CU_width','CU_height','topLeft_x','topLeft_y','bottomRight_x','bottomRight_y','POC','qtdepth','mtdepth','splitType']).min()\n",
    "    df.reset_index(inplace = True)\n",
    "    df['target'] = df['cost'] > df['RDCost']\n",
    "    df['target'] = df['target'].apply(lambda x : 1 if x else 0)\n",
    "    df = df.query('bottomRight_x > 0 & bottomRight_y > 0')\n",
    "    dfAll = pd.concat([dfAll, df])\n",
    "\n",
    "dfAll.reset_index(inplace = True, drop = True)\n",
    "dfAll.to_csv('../datasets/all/VTM.csv', index = False)"
   ]
  },
  {
   "cell_type": "markdown",
   "metadata": {},
   "source": [
    "### [S0]"
   ]
  },
  {
   "cell_type": "markdown",
   "metadata": {},
   "source": [
    "#### [Dataset]"
   ]
  },
  {
   "cell_type": "code",
   "execution_count": null,
   "metadata": {},
   "outputs": [],
   "source": [
    "pixel_features = pixelFeatures('BasketballPass', Y, width, height, 4)\n",
    "splits = ['QT_SPLIT', 'BI_HORZ', 'BI_VERT', 'TRI_HORZ', 'TRI_VERT']\n",
    "\n",
    "for split in splits:\n",
    "    df = pixel_features.extractFeatures(128, 128, split)\n",
    "    df.to_csv('../datasets/all/s0_' + split + '_PIXEL.csv', index = False)"
   ]
  },
  {
   "cell_type": "code",
   "execution_count": null,
   "metadata": {},
   "outputs": [],
   "source": [
    "splits = ['QT_SPLIT', 'BI_HORZ', 'BI_VERT', 'TRI_HORZ', 'TRI_VERT']\n",
    "\n",
    "for split in splits:\n",
    "    dfVTM = pd.read_csv('../datasets/all/VTM.csv')\n",
    "    dfPixel = pd.read_csv('../datasets/all/s0_' + split + '_PIXEL.csv')\n",
    "    dfVTM = dfVTM[dfVTM['splitType'] == split]\n",
    "    df = pd.merge(dfVTM, dfPixel, on = ['topLeft_x', 'topLeft_y','bottomRight_x','bottomRight_y','POC', 'CU_width', 'CU_height', 'videoname'])\n",
    "    df.to_csv('../datasets/' + split + '/s0.csv', index = False)"
   ]
  },
  {
   "cell_type": "markdown",
   "metadata": {},
   "source": [
    "#### [Modelos]"
   ]
  },
  {
   "cell_type": "markdown",
   "metadata": {},
   "source": [
    "##### [QT_SPLIT]"
   ]
  },
  {
   "cell_type": "code",
   "execution_count": null,
   "metadata": {},
   "outputs": [],
   "source": [
    "df = pd.read_csv('../datasets/QT_SPLIT/s0.csv')\n",
    "df.drop(columns = ['videoname', 'splitType'], inplace = True)\n",
    "df['target'].value_counts()"
   ]
  },
  {
   "cell_type": "markdown",
   "metadata": {},
   "source": [
    "##### [BI_HORZ || TRI_HORZ]"
   ]
  },
  {
   "cell_type": "code",
   "execution_count": null,
   "metadata": {},
   "outputs": [],
   "source": [
    "df1 = pd.read_csv('../datasets/BI_HORZ/s0.csv')\n",
    "df2 = pd.read_csv('../datasets/TRI_HORZ/s0.csv')\n",
    "df = pd.concat([df1, df2])\n",
    "df['target'].value_counts()"
   ]
  },
  {
   "cell_type": "markdown",
   "metadata": {},
   "source": [
    "##### [BI_VERT || TRI_VERT]"
   ]
  },
  {
   "cell_type": "code",
   "execution_count": null,
   "metadata": {},
   "outputs": [],
   "source": [
    "df1 = pd.read_csv('../datasets/BI_VERT/s0.csv')\n",
    "df2 = pd.read_csv('../datasets/TRI_VERT/s0.csv')\n",
    "df = pd.concat([df1, df2])\n",
    "df['target'].value_counts()"
   ]
  },
  {
   "cell_type": "markdown",
   "metadata": {},
   "source": [
    "### [S1]"
   ]
  },
  {
   "cell_type": "markdown",
   "metadata": {},
   "source": [
    "#### [Dataset]"
   ]
  },
  {
   "cell_type": "code",
   "execution_count": null,
   "metadata": {},
   "outputs": [],
   "source": [
    "pixel_features = pixelFeatures('BasketballPass', Y, width, height, 4)\n",
    "splits = ['QT_SPLIT', 'BI_HORZ', 'BI_VERT', 'TRI_HORZ', 'TRI_VERT']\n",
    "\n",
    "for split in splits:\n",
    "    df1 = pixel_features.extractFeatures(128, 64, split)\n",
    "    df2 = pixel_features.extractFeatures(64, 128, split)\n",
    "    df = pd.concat([df1, df2])\n",
    "    df.to_csv('../datasets/all/s1_' + split + '_PIXEL.csv', index = False)"
   ]
  },
  {
   "cell_type": "code",
   "execution_count": null,
   "metadata": {},
   "outputs": [],
   "source": [
    "splits = ['QT_SPLIT', 'BI_HORZ', 'BI_VERT', 'TRI_HORZ', 'TRI_VERT']\n",
    "\n",
    "for split in splits:\n",
    "    dfVTM = pd.read_csv('../datasets/all/VTM.csv')\n",
    "    dfPixel = pd.read_csv('../datasets/all/s1_' + split + '_PIXEL.csv')\n",
    "    dfVTM = dfVTM[dfVTM['splitType'] == split]\n",
    "    df = pd.merge(dfVTM, dfPixel, on = ['topLeft_x', 'topLeft_y','bottomRight_x','bottomRight_y','POC', 'CU_width', 'CU_height', 'videoname'])\n",
    "    df.to_csv('../datasets/' + split + '/s1.csv', index = False)"
   ]
  },
  {
   "cell_type": "markdown",
   "metadata": {},
   "source": [
    "#### [Modelos]"
   ]
  },
  {
   "cell_type": "markdown",
   "metadata": {},
   "source": [
    "##### [QT_SPLIT]"
   ]
  },
  {
   "cell_type": "code",
   "execution_count": null,
   "metadata": {},
   "outputs": [],
   "source": [
    "df = pd.read_csv('../datasets/QT_SPLIT/s1.csv')\n",
    "df['target'].value_counts()"
   ]
  },
  {
   "cell_type": "markdown",
   "metadata": {},
   "source": [
    "##### [BI_HORZ || TRI_HORZ]"
   ]
  },
  {
   "cell_type": "code",
   "execution_count": null,
   "metadata": {},
   "outputs": [],
   "source": [
    "df1 = pd.read_csv('../datasets/BI_HORZ/s1.csv')\n",
    "df2 = pd.read_csv('../datasets/TRI_HORZ/s1.csv')\n",
    "df = pd.concat([df1, df2])\n",
    "df['target'].value_counts()"
   ]
  },
  {
   "cell_type": "markdown",
   "metadata": {},
   "source": [
    "##### [BI_VERT || TRI_VERT]"
   ]
  },
  {
   "cell_type": "code",
   "execution_count": null,
   "metadata": {},
   "outputs": [],
   "source": [
    "df1 = pd.read_csv('../datasets/BI_VERT/s1.csv')\n",
    "df2 = pd.read_csv('../datasets/TRI_VERT/s1.csv')\n",
    "df = pd.concat([df1, df2])\n",
    "df['target'].value_counts()"
   ]
  },
  {
   "cell_type": "markdown",
   "metadata": {
    "tags": []
   },
   "source": [
    "### [S2]"
   ]
  },
  {
   "cell_type": "markdown",
   "metadata": {},
   "source": [
    "#### [Dataset]"
   ]
  },
  {
   "cell_type": "code",
   "execution_count": null,
   "metadata": {},
   "outputs": [],
   "source": [
    "pixel_features = pixelFeatures('BasketballPass', Y, width, height, 4)\n",
    "splits = ['QT_SPLIT', 'BI_HORZ', 'BI_VERT', 'TRI_HORZ', 'TRI_VERT']\n",
    "\n",
    "for split in splits:\n",
    "    df1 = pixel_features.extractFeatures(64, 64, split)\n",
    "    df2 = pixel_features.extractFeatures(128, 32, split)\n",
    "    df3 = pixel_features.extractFeatures(32, 128, split)\n",
    "    df = pd.concat([df1, df2, df3])\n",
    "    df.to_csv('../datasets/all/s2_' + split + '_PIXEL.csv', index = False)"
   ]
  },
  {
   "cell_type": "code",
   "execution_count": null,
   "metadata": {},
   "outputs": [],
   "source": [
    "splits = ['QT_SPLIT', 'BI_HORZ', 'BI_VERT', 'TRI_HORZ', 'TRI_VERT']\n",
    "\n",
    "for split in splits:\n",
    "    dfVTM = pd.read_csv('../datasets/all/VTM.csv')\n",
    "    dfPixel = pd.read_csv('../datasets/all/s2_' + split + '_PIXEL.csv')\n",
    "    dfVTM = dfVTM[dfVTM['splitType'] == split]\n",
    "    df = pd.merge(dfVTM, dfPixel, on = ['topLeft_x', 'topLeft_y','bottomRight_x','bottomRight_y','POC', 'CU_width', 'CU_height', 'videoname'])\n",
    "    df.to_csv('../datasets/' + split + '/s2.csv', index = False)"
   ]
  },
  {
   "cell_type": "markdown",
   "metadata": {},
   "source": [
    "#### [Modelo]"
   ]
  },
  {
   "cell_type": "markdown",
   "metadata": {},
   "source": [
    "##### [QT_SPLIT]"
   ]
  },
  {
   "cell_type": "code",
   "execution_count": null,
   "metadata": {},
   "outputs": [],
   "source": [
    "df = pd.read_csv('../datasets/QT_SPLIT/s2.csv')\n",
    "df['target'].value_counts()"
   ]
  },
  {
   "cell_type": "markdown",
   "metadata": {},
   "source": [
    "##### [BI_HORZ || TRI_HORZ]"
   ]
  },
  {
   "cell_type": "code",
   "execution_count": 21,
   "metadata": {},
   "outputs": [
    {
     "data": {
      "text/plain": [
       "False"
      ]
     },
     "execution_count": 21,
     "metadata": {},
     "output_type": "execute_result"
    }
   ],
   "source": [
    "df1 = pd.read_csv('../datasets/BI_HORZ/s2.csv')\n",
    "df2 = pd.read_csv('../datasets/TRI_HORZ/s2.csv')\n",
    "df = pd.concat([df1, df2])\n",
    "df['target'].value_counts().shape[0] > 1"
   ]
  },
  {
   "cell_type": "code",
   "execution_count": 22,
   "metadata": {},
   "outputs": [
    {
     "data": {
      "text/plain": [
       "True"
      ]
     },
     "execution_count": 22,
     "metadata": {},
     "output_type": "execute_result"
    }
   ],
   "source": [
    "df1 = pd.read_csv('../datasets/BI_VERT/s2.csv')\n",
    "df2 = pd.read_csv('../datasets/TRI_VERT/s2.csv')\n",
    "df = pd.concat([df1, df2])\n",
    "df['target'].value_counts().shape[0] > 1"
   ]
  },
  {
   "cell_type": "markdown",
   "metadata": {},
   "source": [
    "##### [BI_VERT || TRI_VERT]"
   ]
  },
  {
   "cell_type": "code",
   "execution_count": 15,
   "metadata": {},
   "outputs": [
    {
     "data": {
      "image/png": "[encoded data removed]",
      "text/plain": [
       "<Figure size 1440x576 with 1 Axes>"
      ]
     },
     "metadata": {
      "needs_background": "light"
     },
     "output_type": "display_data"
    }
   ],
   "source": [
    "cleaner = datasetCleaner(path1 = 'BI_VERT', path2 = 'TRI_VERT', div = 's2')\n",
    "X, y = cleaner.duplicatedFeatures()\n",
    "xTrain, xTest, yTrain, yTest = train_test_split(X, y, stratify = y, random_state = 0)\n",
    "cleaner.featuresImportance(xTrain, yTrain)"
   ]
  },
  {
   "cell_type": "code",
   "execution_count": null,
   "metadata": {},
   "outputs": [],
   "source": [
    "cleaner = datasetCleaner()\n",
    "X, y = cleaner.duplicatedFeatures(df)\n",
    "X_train, X_test, y_train, y_test = train_test_split(X, y, stratify = y, random_state = 42)\n",
    "\n",
    "forest = RF(random_state=0)\n",
    "forest.fit(X_train, y_train)\n",
    "importances = forest.feature_importances_\n",
    "std = np.std([tree.feature_importances_ for tree in forest.estimators_], axis = 0)\n",
    "forest_importances = pd.Series(importances, index = X.columns)\n",
    "forest_importances.plot.bar(yerr = std, figsize = (30,7));"
   ]
  },
  {
   "cell_type": "code",
   "execution_count": 16,
   "metadata": {},
   "outputs": [
    {
     "data": {
      "text/plain": [
       "0.9261029411764706"
      ]
     },
     "execution_count": 16,
     "metadata": {},
     "output_type": "execute_result"
    }
   ],
   "source": [
    "forest = RandomForestClassifier(random_state = 0)\n",
    "scores = cross_val_score(forest, X, y, cv = 10, n_jobs = 2)\n",
    "scores.mean()"
   ]
  },
  {
   "cell_type": "code",
   "execution_count": null,
   "metadata": {},
   "outputs": [],
   "source": [
    "X, y = cleaner.duplicatedFeatures(df)\n",
    "X_train, X_test, y_train, y_test = train_test_split(X, y, random_state = 0, test_size = 0.25)\n",
    "forest = RF(random_state = 0)\n",
    "forest.fit(X_train, y_train)\n",
    "preds = forest.predict(X_test)\n",
    "print('F1-Score: {0:.2f}'.format(100*f1_score(y_test, preds)))\n",
    "sns.heatmap(confusion_matrix(y_test, preds, normalize='true'), annot = True, xticklabels=['No Split', 'Split'], yticklabels=['No Split','Split']);"
   ]
  },
  {
   "cell_type": "code",
   "execution_count": null,
   "metadata": {
    "tags": []
   },
   "outputs": [],
   "source": [
    "X, y = cleaner.duplicatedFeatures(df)\n",
    "oversample = SMOTE()\n",
    "X, y = oversample.fit_resample(X, y)\n",
    "X_train, X_test, y_train, y_test = train_test_split(X, y, random_state = 0, test_size = 0.25)\n",
    "forest = RF(random_state = 0)\n",
    "forest.fit(X_train, y_train)\n",
    "preds = forest.predict(X_test)\n",
    "print('F1-Score: {0:.2f}'.format(100*f1_score(y_test, preds)))\n",
    "sns.heatmap(confusion_matrix(y_test, preds, normalize='true'), annot = True, xticklabels=['No Split', 'Split'], yticklabels=['No Split','Split']);"
   ]
  },
  {
   "cell_type": "markdown",
   "metadata": {},
   "source": [
    "### [S3]"
   ]
  },
  {
   "cell_type": "markdown",
   "metadata": {},
   "source": [
    "#### [Dataset]"
   ]
  },
  {
   "cell_type": "code",
   "execution_count": null,
   "metadata": {},
   "outputs": [],
   "source": [
    "pixel_features = pixelFeatures('BasketballPass', Y, width, height, 4)\n",
    "splits = ['QT_SPLIT', 'BI_HORZ', 'BI_VERT', 'TRI_HORZ', 'TRI_VERT']\n",
    "\n",
    "for split in splits:\n",
    "    df1 = pixel_features.extractFeatures(64, 32, split)\n",
    "    df2 = pixel_features.extractFeatures(32, 64, split)\n",
    "    df3 = pixel_features.extractFeatures(128, 16, split)\n",
    "    df4 = pixel_features.extractFeatures(16, 128, split)\n",
    "    df = pd.concat([df1, df2, df3, df4])\n",
    "    df.to_csv('../datasets/all/s3_' + split + '_PIXEL.csv', index = False)"
   ]
  },
  {
   "cell_type": "code",
   "execution_count": null,
   "metadata": {},
   "outputs": [],
   "source": [
    "splits = ['QT_SPLIT', 'BI_HORZ', 'BI_VERT', 'TRI_HORZ', 'TRI_VERT']\n",
    "\n",
    "for split in splits:\n",
    "    dfVTM = pd.read_csv('../datasets/all/VTM.csv')\n",
    "    dfPixel = pd.read_csv('../datasets/all/s3_' + split + '_PIXEL.csv')\n",
    "    dfVTM = dfVTM[dfVTM['splitType'] == split]\n",
    "    df = pd.merge(dfVTM, dfPixel, on = ['topLeft_x', 'topLeft_y','bottomRight_x','bottomRight_y','POC', 'CU_width', 'CU_height', 'videoname'])\n",
    "    df.to_csv('../datasets/' + split + '/s3.csv', index = False)"
   ]
  },
  {
   "cell_type": "markdown",
   "metadata": {},
   "source": [
    "#### [Modelo]"
   ]
  },
  {
   "cell_type": "markdown",
   "metadata": {},
   "source": [
    "##### [QT_SPLIT]"
   ]
  },
  {
   "cell_type": "code",
   "execution_count": null,
   "metadata": {},
   "outputs": [],
   "source": [
    "df = pd.read_csv('../datasets/QT_SPLIT/s3.csv')\n",
    "df['target'].value_counts()"
   ]
  },
  {
   "cell_type": "markdown",
   "metadata": {},
   "source": [
    "##### [BI_HORZ || TRI_HORZ]"
   ]
  },
  {
   "cell_type": "code",
   "execution_count": null,
   "metadata": {},
   "outputs": [],
   "source": [
    "df1 = pd.read_csv('../datasets/BI_HORZ/s3.csv')\n",
    "df2 = pd.read_csv('../datasets/TRI_HORZ/s3.csv')\n",
    "df = pd.concat([df1, df2])\n",
    "df['target'].value_counts()"
   ]
  },
  {
   "cell_type": "markdown",
   "metadata": {},
   "source": [
    "##### [BI_VERT || TRI_VERT]"
   ]
  },
  {
   "cell_type": "code",
   "execution_count": null,
   "metadata": {},
   "outputs": [],
   "source": [
    "df1 = pd.read_csv('../datasets/BI_VERT/s3.csv')\n",
    "df2 = pd.read_csv('../datasets/TRI_VERT/s3.csv')\n",
    "df = pd.concat([df1, df2])\n",
    "df.reset_index(inplace = True, drop = True)\n",
    "df.drop(columns = ['videoname', 'splitType', 'cost', 'RDCost'], inplace = True)\n",
    "df['target'].value_counts()"
   ]
  },
  {
   "cell_type": "code",
   "execution_count": null,
   "metadata": {},
   "outputs": [],
   "source": [
    "cleaner = datasetCleaner()\n",
    "X, y = cleaner.duplicatedFeatures(df)\n",
    "X_train, X_test, y_train, y_test = train_test_split(X, y, stratify = y, random_state = 42)\n",
    "\n",
    "forest = RF(random_state=0)\n",
    "forest.fit(X_train, y_train)\n",
    "importances = forest.feature_importances_\n",
    "std = np.std([tree.feature_importances_ for tree in forest.estimators_], axis = 0)\n",
    "forest_importances = pd.Series(importances, index = X.columns)\n",
    "forest_importances.plot.bar(yerr = std, figsize = (30,7));"
   ]
  },
  {
   "cell_type": "code",
   "execution_count": null,
   "metadata": {},
   "outputs": [],
   "source": [
    "X, y = cleaner.duplicatedFeatures(df)\n",
    "X_train, X_test, y_train, y_test = train_test_split(X, y, random_state = 0, test_size = 0.25)\n",
    "forest = RF(random_state = 0)\n",
    "forest.fit(X_train, y_train)\n",
    "preds = forest.predict(X_test)\n",
    "print('F1-Score: {0:.2f}'.format(100*f1_score(y_test, preds)))\n",
    "sns.heatmap(confusion_matrix(y_test, preds, normalize='true'), annot = True, xticklabels=['No Split', 'Split'], yticklabels=['No Split','Split']);"
   ]
  },
  {
   "cell_type": "code",
   "execution_count": null,
   "metadata": {
    "tags": []
   },
   "outputs": [],
   "source": [
    "forest = RF(random_state = 0)\n",
    "scores = cross_val_score(forest, X, y, cv = 5)\n",
    "scores.mean()"
   ]
  },
  {
   "cell_type": "markdown",
   "metadata": {},
   "source": [
    "### [S4]"
   ]
  },
  {
   "cell_type": "markdown",
   "metadata": {},
   "source": [
    "#### [Dataset]"
   ]
  },
  {
   "cell_type": "code",
   "execution_count": null,
   "metadata": {},
   "outputs": [],
   "source": [
    "pixel_features = pixelFeatures('BasketballPass', Y, width, height, 4)\n",
    "splits = ['QT_SPLIT', 'BI_HORZ', 'BI_VERT', 'TRI_HORZ', 'TRI_VERT']\n",
    "\n",
    "for split in splits:\n",
    "    df1 = pixel_features.extractFeatures(32, 32, split)\n",
    "    df2 = pixel_features.extractFeatures(64, 16, split)\n",
    "    df3 = pixel_features.extractFeatures(16, 64, split)\n",
    "    df4 = pixel_features.extractFeatures(128, 8, split)\n",
    "    df5 = pixel_features.extractFeatures(8, 128, split)\n",
    "    df = pd.concat([df1, df2, df3, df4, df5])\n",
    "    df.to_csv('../datasets/all/s4_' + split + '_PIXEL.csv', index = False)"
   ]
  },
  {
   "cell_type": "code",
   "execution_count": null,
   "metadata": {},
   "outputs": [],
   "source": [
    "splits = ['QT_SPLIT', 'BI_HORZ', 'BI_VERT', 'TRI_HORZ', 'TRI_VERT']\n",
    "\n",
    "for split in splits:\n",
    "    dfVTM = pd.read_csv('../datasets/all/VTM.csv')\n",
    "    dfPixel = pd.read_csv('../datasets/all/s4_' + split + '_PIXEL.csv')\n",
    "    dfVTM = dfVTM[dfVTM['splitType'] == split]\n",
    "    df = pd.merge(dfVTM, dfPixel, on = ['topLeft_x', 'topLeft_y','bottomRight_x','bottomRight_y','POC', 'CU_width', 'CU_height', 'videoname'])\n",
    "    df.to_csv('../datasets/' + split + '/s4.csv', index = False)"
   ]
  },
  {
   "cell_type": "markdown",
   "metadata": {},
   "source": [
    "#### [Modelo]"
   ]
  },
  {
   "cell_type": "markdown",
   "metadata": {},
   "source": [
    "##### [QT_SPLIT]"
   ]
  },
  {
   "cell_type": "code",
   "execution_count": null,
   "metadata": {},
   "outputs": [],
   "source": [
    "df = pd.read_csv('../datasets/QT_SPLIT/s4.csv')\n",
    "df['target'].value_counts()"
   ]
  },
  {
   "cell_type": "markdown",
   "metadata": {},
   "source": [
    "##### [BI_HORZ || TRI_HORZ]"
   ]
  },
  {
   "cell_type": "code",
   "execution_count": null,
   "metadata": {},
   "outputs": [],
   "source": [
    "df1 = pd.read_csv('../datasets/BI_HORZ/s4.csv')\n",
    "df2 = pd.read_csv('../datasets/TRI_HORZ/s4.csv')\n",
    "df = pd.concat([df1, df2])\n",
    "df['target'].value_counts()"
   ]
  },
  {
   "cell_type": "markdown",
   "metadata": {},
   "source": [
    "##### [BI_VERT || TRI_VERT]"
   ]
  },
  {
   "cell_type": "code",
   "execution_count": null,
   "metadata": {},
   "outputs": [],
   "source": [
    "df1 = pd.read_csv('../datasets/BI_VERT/s4.csv')\n",
    "df2 = pd.read_csv('../datasets/TRI_VERT/s4.csv')\n",
    "df = pd.concat([df1, df2])\n",
    "df['target'].value_counts()"
   ]
  },
  {
   "cell_type": "markdown",
   "metadata": {},
   "source": [
    "### [S5]"
   ]
  },
  {
   "cell_type": "markdown",
   "metadata": {},
   "source": [
    "#### [Dataset]"
   ]
  },
  {
   "cell_type": "code",
   "execution_count": null,
   "metadata": {},
   "outputs": [],
   "source": [
    "pixel_features = pixelFeatures('BasketballPass', Y, width, height, 4)\n",
    "splits = ['QT_SPLIT', 'BI_HORZ', 'BI_VERT', 'TRI_HORZ', 'TRI_VERT']\n",
    "\n",
    "for split in splits:\n",
    "    df1 = pixel_features.extractFeatures(32, 16, split)\n",
    "    df2 = pixel_features.extractFeatures(16, 32, split)\n",
    "    df3 = pixel_features.extractFeatures(64, 8, split)\n",
    "    df4 = pixel_features.extractFeatures(8, 64, split)\n",
    "    df = pd.concat([df1, df2, df3, df4])\n",
    "    df.to_csv('../datasets/all/s5_' + split + '_PIXEL.csv', index = False)"
   ]
  },
  {
   "cell_type": "code",
   "execution_count": null,
   "metadata": {},
   "outputs": [],
   "source": [
    "splits = ['QT_SPLIT', 'BI_HORZ', 'BI_VERT', 'TRI_HORZ', 'TRI_VERT']\n",
    "\n",
    "for split in splits:\n",
    "    dfVTM = pd.read_csv('../datasets/all/VTM.csv')\n",
    "    dfPixel = pd.read_csv('../datasets/all/s5_' + split + '_PIXEL.csv')\n",
    "    dfVTM = dfVTM[dfVTM['splitType'] == split]\n",
    "    df = pd.merge(dfVTM, dfPixel, on = ['topLeft_x', 'topLeft_y','bottomRight_x','bottomRight_y','POC', 'CU_width', 'CU_height', 'videoname'])\n",
    "    df.to_csv('../datasets/' + split + '/s5.csv', index = False)"
   ]
  },
  {
   "cell_type": "markdown",
   "metadata": {},
   "source": [
    "#### [Modelo]"
   ]
  },
  {
   "cell_type": "markdown",
   "metadata": {},
   "source": [
    "##### [QT_SPLIT]"
   ]
  },
  {
   "cell_type": "code",
   "execution_count": null,
   "metadata": {},
   "outputs": [],
   "source": [
    "df = pd.read_csv('../datasets/QT_SPLIT/s5.csv')\n",
    "df['target'].value_counts()"
   ]
  },
  {
   "cell_type": "markdown",
   "metadata": {},
   "source": [
    "##### [BI_HORZ || TRI_HORZ]"
   ]
  },
  {
   "cell_type": "code",
   "execution_count": null,
   "metadata": {},
   "outputs": [],
   "source": [
    "df1 = pd.read_csv('../datasets/BI_HORZ/s5.csv')\n",
    "df2 = pd.read_csv('../datasets/TRI_HORZ/s5.csv')\n",
    "df = pd.concat([df1, df2])\n",
    "df['target'].value_counts()"
   ]
  },
  {
   "cell_type": "markdown",
   "metadata": {},
   "source": [
    "##### [BI_VERT || TRI_VERT]"
   ]
  },
  {
   "cell_type": "code",
   "execution_count": null,
   "metadata": {},
   "outputs": [],
   "source": [
    "df1 = pd.read_csv('../datasets/BI_VERT/s5.csv')\n",
    "df2 = pd.read_csv('../datasets/TRI_VERT/s5.csv')\n",
    "df = pd.concat([df1, df2])\n",
    "df['target'].value_counts()"
   ]
  },
  {
   "cell_type": "markdown",
   "metadata": {},
   "source": [
    "### [S6]"
   ]
  },
  {
   "cell_type": "markdown",
   "metadata": {},
   "source": [
    "#### [Dataset]"
   ]
  },
  {
   "cell_type": "code",
   "execution_count": null,
   "metadata": {},
   "outputs": [],
   "source": [
    "pixel_features = pixelFeatures('BasketballPass', Y, width, height, 4)\n",
    "splits = ['QT_SPLIT', 'BI_HORZ', 'BI_VERT', 'TRI_HORZ', 'TRI_VERT']\n",
    "\n",
    "for split in splits:\n",
    "    df1 = pixel_features.extractFeatures(16, 16, split)\n",
    "    df2 = pixel_features.extractFeatures(32, 8, split)\n",
    "    df3 = pixel_features.extractFeatures(8, 32, split)\n",
    "    df = pd.concat([df1, df2, df3])\n",
    "    df.to_csv('../datasets/all/s6_' + split + '_PIXEL.csv', index = False)"
   ]
  },
  {
   "cell_type": "code",
   "execution_count": null,
   "metadata": {},
   "outputs": [],
   "source": [
    "splits = ['QT_SPLIT', 'BI_HORZ', 'BI_VERT', 'TRI_HORZ', 'TRI_VERT']\n",
    "\n",
    "for split in splits:\n",
    "    dfVTM = pd.read_csv('../datasets/all/VTM.csv')\n",
    "    dfPixel = pd.read_csv('../datasets/all/s6_' + split + '_PIXEL.csv')\n",
    "    dfVTM = dfVTM[dfVTM['splitType'] == split]\n",
    "    df = pd.merge(dfVTM, dfPixel, on = ['topLeft_x', 'topLeft_y','bottomRight_x','bottomRight_y','POC', 'CU_width', 'CU_height', 'videoname'])\n",
    "    df.to_csv('../datasets/' + split + '/s6.csv', index = False)"
   ]
  },
  {
   "cell_type": "markdown",
   "metadata": {},
   "source": [
    "#### [Modelo]"
   ]
  },
  {
   "cell_type": "markdown",
   "metadata": {},
   "source": [
    "##### [QT_SPLIT]"
   ]
  },
  {
   "cell_type": "code",
   "execution_count": null,
   "metadata": {},
   "outputs": [],
   "source": [
    "df = pd.read_csv('../datasets/QT_SPLIT/s6.csv')\n",
    "df['target'].value_counts()"
   ]
  },
  {
   "cell_type": "markdown",
   "metadata": {},
   "source": [
    "##### [BI_HORZ || TRI_HORZ]"
   ]
  },
  {
   "cell_type": "code",
   "execution_count": null,
   "metadata": {},
   "outputs": [],
   "source": [
    "df1 = pd.read_csv('../datasets/BI_HORZ/s6.csv')\n",
    "df2 = pd.read_csv('../datasets/TRI_HORZ/s6.csv')\n",
    "df = pd.concat([df1, df2])\n",
    "df['target'].value_counts()"
   ]
  },
  {
   "cell_type": "markdown",
   "metadata": {},
   "source": [
    "##### [BI_VERT || TRI_VERT]"
   ]
  },
  {
   "cell_type": "code",
   "execution_count": null,
   "metadata": {},
   "outputs": [],
   "source": [
    "df1 = pd.read_csv('../datasets/BI_VERT/s6.csv')\n",
    "df2 = pd.read_csv('../datasets/TRI_VERT/s6.csv')\n",
    "df = pd.concat([df1, df2])\n",
    "df['target'].value_counts()"
   ]
  },
  {
   "cell_type": "markdown",
   "metadata": {},
   "source": [
    "### [Dataset - ExtractionClass]"
   ]
  },
  {
   "cell_type": "code",
   "execution_count": null,
   "metadata": {},
   "outputs": [],
   "source": [
    "class Extract_Features:\n",
    "    def __init__(self, height, width, frame):\n",
    "        self.height = height\n",
    "        self.width = width\n",
    "        self.Y = frame\n",
    "        self.block_size_height = 0\n",
    "        self.block_size_width = 0\n",
    "        self.frame_padding = 0\n",
    "        \n",
    "    def setBlock(self, block_size):\n",
    "        \n",
    "        self.block_size_height = int(block_size.split('x')[0])\n",
    "        self.block_size_width = int(block_size.split('x')[1])\n",
    "        self.frame_padding = np.pad(self.Y, ( (0,(height % self.block_size_height)), \n",
    "                                             (0,(width % self.block_size_width)) ), 'edge')            \n",
    "    \n",
    "    def setDataFrame(self, array, columns):\n",
    "        \n",
    "        df = pd.DataFrame(columns = columns)\n",
    "        for i in range(len(columns)):\n",
    "            df[columns[i]] = array[:,i]\n",
    "        \n",
    "        return df\n",
    "    \n",
    "    def getVariance(self, block_size):\n",
    "        self.setBlock(block_size)\n",
    "        varPix = np.array([[None]*5])\n",
    "\n",
    "        for h in range(0, self.height, self.block_size_height):\n",
    "            for w in range(0, self.width, self.block_size_width):\n",
    "                line = np.append([w, h, w+(self.block_size_width-1), h+(self.block_size_height-1)], \n",
    "                                np.var(self.frame_padding[h:h+(self.block_size_height-1), \n",
    "                                                             w:w+(self.block_size_width-1)]))\n",
    "                varPix = np.vstack((varPix, line))\n",
    "        \n",
    "        return self.setDataFrame(varPix[1:,], ['topLeft_x', 'topLeft_y', 'bottomRight_x', 'bottomRight_y', 'VarPix'])\n",
    "    \n",
    "    def getGradients(self, block_size):\n",
    "        self.setBlock(block_size)\n",
    "              \n",
    "        grad = np.array([[None]*7])\n",
    "        \n",
    "        for h in range(0, self.height, self.block_size_height):\n",
    "            for w in range(0, self.width, self.block_size_width):\n",
    "                Gx, Gy = np.gradient(self.frame_padding[h:h+(self.block_size_height-1), \n",
    "                                                             w:w+(self.block_size_width-1)])\n",
    "                line = [w, h, w+(self.block_size_width-1), h+(self.block_size_height-1), Gx.sum(), Gy.sum(), (Gx.sum()/Gy.sum())]\n",
    "                grad = np.vstack((grad, line))\n",
    "        return self.setDataFrame(grad[1:,], ['topLeft_x', 'topLeft_y', 'bottomRight_x', 'bottomRight_y', 'Grad_x', 'Grad_y', 'RatioGrad'])\n",
    "    \n",
    "    \n",
    "    def getQuarterPos(self, h, w, df_quarter, df_block):\n",
    "        quarter = df_quarter[ df_quarter['topLeft_x'] >= w ]\n",
    "        quarter = quarter[ quarter['topLeft_y'] >= h ]\n",
    "        quarter = quarter[ quarter['bottomRight_x'] <= w + (self.block_size_width - 1) ]\n",
    "        quarter = quarter[ quarter['bottomRight_y'] <= h + (self.block_size_height - 1)]\n",
    "        \n",
    "        quarter.reset_index(inplace = True, drop = True)\n",
    "\n",
    "        feature = df_block[ df_block['topLeft_x'] == w ]\n",
    "        feature = feature[ feature['topLeft_y'] == h ]\n",
    "        feature = feature[ feature['bottomRight_x'] == w + (self.block_size_width  - 1) ]\n",
    "        feature = feature[ feature['bottomRight_y'] == h + (self.block_size_height - 1) ]\n",
    "        \n",
    "        feature.reset_index(inplace = True, drop = True)\n",
    "        \n",
    "        return quarter, feature\n",
    "                \n",
    "    def getQuarterVariance(self, block_size, quarter_block_size, varPix, grads, mean):\n",
    "        v = pd.DataFrame()\n",
    "        g = pd.DataFrame()\n",
    "        m = pd.DataFrame()\n",
    "        quarterVar = dataset.getVariance(quarter_block_size)\n",
    "        quarterGrad = dataset.getGradients(quarter_block_size)\n",
    "        quarterMean = dataset.getMean(quarter_block_size)\n",
    "        \n",
    "        self.setBlock(block_size)\n",
    "        pos = ['topLeft', 'topRight', 'bottomLeft', 'bottomRight']\n",
    "        \n",
    "        for h in range(0, self.height, self.block_size_height):\n",
    "            for w in range(0, self.width, self.block_size_width):\n",
    "                \n",
    "                quarterVar_aux, varPix_aux = self.getQuarterPos(h, w, quarterVar, varPix)\n",
    "                quarterGrad_aux, grad_aux = self.getQuarterPos(h, w, quarterGrad, grads)\n",
    "                quarterMean_aux, mean_aux = self.getQuarterPos(h, w, quarterMean, mean)\n",
    "                \n",
    "                for i in range(1,len(pos)+1):\n",
    "                    if quarterVar_aux.shape[0] >= i:\n",
    "                        varPix_aux['QuarterVarPix_' + pos[i-1]] = quarterVar_aux['VarPix'][i-1]\n",
    "                        grad_aux['QuarterGrad_x_' + pos[i-1]] = quarterGrad_aux['Grad_x'][i-1]\n",
    "                        grad_aux['QuarterGrad_y_' + pos[i-1]] = quarterGrad_aux['Grad_y'][i-1]\n",
    "                        grad_aux['QuarterRatioGrad_' + pos[i-1]] = quarterGrad_aux['RatioGrad'][i-1]\n",
    "                        mean_aux['QuarterMean_' + pos[i-1]] = quarterMean_aux['Mean'][i-1]\n",
    "                 \n",
    "                v = pd.concat([v, varPix_aux], sort=False)\n",
    "                g = pd.concat([g, grad_aux], sort=False)\n",
    "                m = pd.concat([m, mean_aux], sort=False)\n",
    "                d = pd.merge(v,g)\n",
    "        return pd.merge(d,m)\n",
    "    \n",
    "    def getInconsistency(self, df, feature):\n",
    "        max_lines = df.shape[0]\n",
    "        HI = np.array([[None]*1])\n",
    "        VI = np.array([[None]*1])\n",
    "        \n",
    "        for i in range(max_lines):\n",
    "            f1 = df.loc[i,'Quarter' + feature + '_topLeft']\n",
    "            f2 = df.loc[i, 'Quarter' + feature + '_topRight']\n",
    "            f3 = df.loc[i, 'Quarter' + feature + '_bottomLeft']\n",
    "            f4 = df.loc[i, 'Quarter' + feature + '_bottomRight']\n",
    "            \n",
    "            if f3 != None or f4 != None:\n",
    "\n",
    "                h = abs(f1 - f2) + abs(f3 - f4)\n",
    "                v = abs(f1 - f3) + abs(f2 - f4)\n",
    "\n",
    "                HI = np.vstack((HI, h))\n",
    "                VI = np.vstack((VI, v))\n",
    "            else:\n",
    "                HI = np.vstack((HI, None))\n",
    "                VI = np.vstack((VI, None))\n",
    "        return HI,VI\n",
    "    \n",
    "    def getMean(self, block_size):\n",
    "        self.setBlock(block_size)\n",
    "        mean = np.array([[None]*5])\n",
    "\n",
    "        for h in range(0, self.height, self.block_size_height):\n",
    "            for w in range(0, self.width, self.block_size_width):\n",
    "                line = np.append([w, h, w+(self.block_size_width-1), h+(self.block_size_height-1)], \n",
    "                                np.mean(self.frame_padding[h:h+(self.block_size_height-1), \n",
    "                                                             w:w+(self.block_size_width-1)]))\n",
    "                mean = np.vstack((mean, line))\n",
    "        \n",
    "        return self.setDataFrame(mean[1:,], ['topLeft_x', 'topLeft_y', 'bottomRight_x', 'bottomRight_y', 'Mean'])"
   ]
  },
  {
   "cell_type": "markdown",
   "metadata": {},
   "source": [
    "### [Dataset Image]"
   ]
  },
  {
   "cell_type": "code",
   "execution_count": null,
   "metadata": {},
   "outputs": [],
   "source": [
    "df_image = pd.DataFrame()\n",
    "\n",
    "for i in range(1,16):\n",
    "\n",
    "    dataset = Extract_Features(height, width, Y[i])\n",
    "    varPix = dataset.getVariance('128x128')\n",
    "    grads = dataset.getGradients('128x128')\n",
    "    mean = dataset.getMean('128x128')\n",
    "    v = dataset.getQuarterVariance('128x128', '64x64', varPix, grads, mean)\n",
    "    \n",
    "    df = pd.merge(varPix, grads)\n",
    "    df = pd.merge(df, v)\n",
    "    \n",
    "    HI, VI = dataset.getInconsistency(df, 'VarPix')\n",
    "    df = pd.concat([df, pd.DataFrame(HI[1:,], columns=['HI_VarPix'])], axis = 1)\n",
    "    df = pd.concat([df, pd.DataFrame(VI[1:,], columns=['VI_VarPix'])], axis = 1)\n",
    "\n",
    "    HI, VI = dataset.getInconsistency(df, 'RatioGrad')\n",
    "    df = pd.concat([df, pd.DataFrame(HI[1:,], columns=['HI_RatioGrad'])], axis = 1)\n",
    "    df = pd.concat([df, pd.DataFrame(VI[1:,], columns=['VI_RatioGrad'])], axis = 1)\n",
    "    \n",
    "    HI, VI = dataset.getInconsistency(df, 'Mean')\n",
    "    df = pd.concat([df, pd.DataFrame(HI[1:,], columns=['HI_Mean'])], axis = 1)\n",
    "    df = pd.concat([df, pd.DataFrame(VI[1:,], columns=['VI_Mean'])], axis = 1)\n",
    "    \n",
    "    df['DiffInconsPix'] = df['HI_VarPix'] - df['VI_VarPix']\n",
    "    df['DiffInconsRatioGrad'] = df['HI_RatioGrad'] - df['VI_RatioGrad']\n",
    "    df['DiffInconsMean'] = df['HI_Mean'] - df['VI_Mean']\n",
    "    df['GOP'] = i\n",
    "    \n",
    "    df_image = pd.concat([df_image, df], sort=False)\n",
    "    \n",
    "df_image.dropna(inplace = True)\n",
    "df_image.shape\n"
   ]
  },
  {
   "cell_type": "markdown",
   "metadata": {
    "tags": []
   },
   "source": [
    "### [Features Selection]"
   ]
  },
  {
   "cell_type": "code",
   "execution_count": null,
   "metadata": {},
   "outputs": [],
   "source": [
    "def MI(df, plot=True):\n",
    "    x = df.drop(columns= 'splitColumn', axis = 1)\n",
    "    constant_filter = VarianceThreshold(threshold=0.01)\n",
    "    constant_filter.fit(x)\n",
    "    xFilter = constant_filter.transform(x)\n",
    "    columnsFilter = x.columns[constant_filter.get_support()]\n",
    "\n",
    "    x_T = xFilter.T\n",
    "    x_T = pd.DataFrame(x_T)\n",
    "    \n",
    "    duplicatedFeatures = x_T.duplicated()\n",
    "    featuresToKeep = [not index for index in duplicatedFeatures]\n",
    "\n",
    "    xUnique = x_T[featuresToKeep].T\n",
    "    columnsUnique = columnsFilter[featuresToKeep]\n",
    "\n",
    "    xUnique.columns = columnsUnique\n",
    "    \n",
    "    X = xUnique\n",
    "    Y = df['splitColumn']\n",
    "    \n",
    "    if plot:\n",
    "\n",
    "        mi = mutual_info_classif(X, Y)\n",
    "        mi = pd.Series(mi)\n",
    "        mi.index = X.columns\n",
    "        mi.sort_values(ascending = False, inplace = True)\n",
    "        plt.ylabel('Mutal Information (MI)')\n",
    "        plt.title('Model 128x128 QP 22')\n",
    "        mi.plot.bar(figsize = (16,5), color='red', grid=True)\n",
    "\n",
    "    return X, Y\n",
    "\n",
    "X, Y = MI(df_all[df_all['QP'] == 22])"
   ]
  },
  {
   "cell_type": "markdown",
   "metadata": {},
   "source": [
    "### [Training]"
   ]
  },
  {
   "cell_type": "code",
   "execution_count": null,
   "metadata": {},
   "outputs": [],
   "source": [
    "def simpleTraining(X, Y, imblearn, ax, title):\n",
    "    \n",
    "    if imblearn:\n",
    "        undersample = RandomUnderSampler(sampling_strategy='all', random_state = 0)\n",
    "        X, Y = undersample.fit_resample(X, Y)\n",
    "    \n",
    "    X_train, X_test, y_train, y_test = train_test_split(X, Y, random_state=0, test_size = 0.25)\n",
    "    clf = RF(random_state=0)\n",
    "    clf.fit(X_train, y_train)\n",
    "    predicts = clf.predict(X_test)\n",
    "    cm = sns.heatmap(confusion_matrix(y_test, predicts, normalize='true'), annot = True, xticklabels=['No Split', 'Split'], yticklabels=['No Split','Split'], ax = ax)\n",
    "    \n",
    "    if ax == None:\n",
    "        plt.title('Confusion Matrix - Model 128x128 ' + title)\n",
    "    else:\n",
    "        ax.set_title('Confusion Matrix - Model 128x128 ' + title)\n",
    "\n",
    "    \n",
    "    return f1_score(y_test, predicts)"
   ]
  }
 ],
 "metadata": {
  "kernelspec": {
   "display_name": "Python 3",
   "language": "python",
   "name": "python3"
  },
  "language_info": {
   "codemirror_mode": {
    "name": "ipython",
    "version": 3
   },
   "file_extension": ".py",
   "mimetype": "text/x-python",
   "name": "python",
   "nbconvert_exporter": "python",
   "pygments_lexer": "ipython3",
   "version": "3.7.6"
  }
 },
 "nbformat": 4,
 "nbformat_minor": 4
}
