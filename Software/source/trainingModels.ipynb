{
 "cells": [
  {
   "cell_type": "code",
   "execution_count": null,
   "id": "2bd124b9-2ba4-47a2-b0c5-3b1a797503b9",
   "metadata": {},
   "outputs": [],
   "source": [
    "import pandas as pd\n",
    "import numpy as np\n",
    "import matplotlib.pyplot as plt\n",
    "import random\n",
    "from tqdm.notebook import tnrange\n",
    "from sklearn.model_selection import cross_val_score, train_test_split, RandomizedSearchCV\n",
    "from sklearn.ensemble import RandomForestClassifier\n",
    "from sklearn.metrics import f1_score as f1"
   ]
  },
  {
   "cell_type": "code",
   "execution_count": null,
   "id": "b41a5c73-eada-4601-aada-c472cd40bb31",
   "metadata": {},
   "outputs": [],
   "source": [
    "def gridSearch(path):\n",
    "    units = list(range(2,11))\n",
    "    tens = list(range(25,101,25))\n",
    "    param_grid = {\n",
    "        'n_estimators': units + tens,\n",
    "        'min_samples_split': list(range(8,51,2)),\n",
    "        'min_samples_leaf': list(range(1,31,2)),\n",
    "        'max_depth': units + tens,\n",
    "        'max_samples': [round(0.1*i,2) for i in range(1,10)]\n",
    "    }\n",
    "\n",
    "    df = pd.read_csv('../datasets/' + path + '_training.csv')\n",
    "    X = df.drop(columns = 'target')\n",
    "    y = df['target']\n",
    "\n",
    "    X, XT, y, yT = train_test_split(X, y, test_size = 0.25)\n",
    "\n",
    "    random_grid_search = RandomizedSearchCV(estimator = RandomForestClassifier(max_features = 'sqrt'), param_distributions = param_grid, n_iter = 100, scoring = 'f1_weighted', n_jobs = 4).fit(X,y)\n",
    "\n",
    "    n_estimators = []\n",
    "    min_samples_split = []\n",
    "    min_samples_leaf = []\n",
    "    max_depth = []\n",
    "    max_samples = []\n",
    "\n",
    "    for combination in random_grid_search.cv_results_['params']:\n",
    "        n_estimators.append(combination['n_estimators'])\n",
    "        min_samples_split.append(combination['min_samples_split'])\n",
    "        min_samples_leaf.append(combination['min_samples_leaf'])\n",
    "        max_depth.append(combination['max_depth'])\n",
    "        max_samples.append(combination['max_samples'])\n",
    "    f1_scores              = random_grid_search.cv_results_['mean_test_score']\n",
    "\n",
    "    df = pd.DataFrame()\n",
    "    df['n_estimators'] = n_estimators\n",
    "    df['min_samples_split'] = min_samples_split\n",
    "    df['min_samples_leaf'] = min_samples_leaf\n",
    "    df['max_depth'] = max_depth\n",
    "    df['max_samples'] = max_samples\n",
    "    df['f1_scores'] = f1_scores\n",
    "\n",
    "    return df.sort_values(by = 'f1_scores').iloc[-1]"
   ]
  },
  {
   "cell_type": "code",
   "execution_count": null,
   "id": "6a25c8cd-31a9-4351-b658-b15f47c3f07e",
   "metadata": {},
   "outputs": [],
   "source": [
    "datasets = ['s0', 's1', 's2', 's3', 's4', 's5', 's6']\n",
    "direction = ['horz', 'vert']\n",
    "\n",
    "df = pd.DataFrame()\n",
    "columns = []\n",
    "\n",
    "for i in tnrange(len(datasets)):\n",
    "    for d in direction:\n",
    "        columns.append(datasets[i] + '_' + d)\n",
    "        grid = gridSearch(datasets[i] + '/' + d + '_' + datasets[i])\n",
    "        \n",
    "        df = pd.concat([df, grid], axis = 1, sort = False)\n",
    "        \n",
    "df.columns = columns"
   ]
  },
  {
   "cell_type": "code",
   "execution_count": null,
   "id": "c782bb8b-7842-4788-b9f1-82d3f358ca2f",
   "metadata": {},
   "outputs": [],
   "source": [
    "df"
   ]
  },
  {
   "cell_type": "code",
   "execution_count": null,
   "id": "bdc51678-7e75-4140-9cdd-2450863135ac",
   "metadata": {},
   "outputs": [],
   "source": []
  }
 ],
 "metadata": {
  "kernelspec": {
   "display_name": "Python 3 (ipykernel)",
   "language": "python",
   "name": "python3"
  },
  "language_info": {
   "codemirror_mode": {
    "name": "ipython",
    "version": 3
   },
   "file_extension": ".py",
   "mimetype": "text/x-python",
   "name": "python",
   "nbconvert_exporter": "python",
   "pygments_lexer": "ipython3",
   "version": "3.7.6"
  }
 },
 "nbformat": 4,
 "nbformat_minor": 5
}
